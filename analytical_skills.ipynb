{
 "cells": [
  {
   "cell_type": "markdown",
   "metadata": {},
   "source": [
    "### Импорты"
   ]
  },
  {
   "cell_type": "code",
   "execution_count": 1,
   "metadata": {},
   "outputs": [],
   "source": [
    "import pandas as pd\n",
    "from scipy import stats as st\n",
    "import math as mth"
   ]
  },
  {
   "cell_type": "code",
   "execution_count": 2,
   "metadata": {
    "scrolled": false
   },
   "outputs": [
    {
     "data": {
      "text/html": [
       "<div>\n",
       "<style scoped>\n",
       "    .dataframe tbody tr th:only-of-type {\n",
       "        vertical-align: middle;\n",
       "    }\n",
       "\n",
       "    .dataframe tbody tr th {\n",
       "        vertical-align: top;\n",
       "    }\n",
       "\n",
       "    .dataframe thead th {\n",
       "        text-align: right;\n",
       "    }\n",
       "</style>\n",
       "<table border=\"1\" class=\"dataframe\">\n",
       "  <thead>\n",
       "    <tr style=\"text-align: right;\">\n",
       "      <th></th>\n",
       "      <th>Ветка</th>\n",
       "      <th>Вертикаль</th>\n",
       "      <th>Страница товара (пользователей)</th>\n",
       "      <th>Число покупателей</th>\n",
       "    </tr>\n",
       "  </thead>\n",
       "  <tbody>\n",
       "    <tr>\n",
       "      <th>0</th>\n",
       "      <td>Control</td>\n",
       "      <td>Смартфоны</td>\n",
       "      <td>12137</td>\n",
       "      <td>1972</td>\n",
       "    </tr>\n",
       "    <tr>\n",
       "      <th>1</th>\n",
       "      <td>Variation</td>\n",
       "      <td>Смартфоны</td>\n",
       "      <td>12289</td>\n",
       "      <td>2065</td>\n",
       "    </tr>\n",
       "    <tr>\n",
       "      <th>2</th>\n",
       "      <td>Control</td>\n",
       "      <td>Обувь</td>\n",
       "      <td>5070</td>\n",
       "      <td>268</td>\n",
       "    </tr>\n",
       "    <tr>\n",
       "      <th>3</th>\n",
       "      <td>Variation</td>\n",
       "      <td>Обувь</td>\n",
       "      <td>5273</td>\n",
       "      <td>311</td>\n",
       "    </tr>\n",
       "    <tr>\n",
       "      <th>4</th>\n",
       "      <td>Control</td>\n",
       "      <td>Компьютеры</td>\n",
       "      <td>8239</td>\n",
       "      <td>772</td>\n",
       "    </tr>\n",
       "    <tr>\n",
       "      <th>5</th>\n",
       "      <td>Variation</td>\n",
       "      <td>Компьютеры</td>\n",
       "      <td>8092</td>\n",
       "      <td>752</td>\n",
       "    </tr>\n",
       "    <tr>\n",
       "      <th>6</th>\n",
       "      <td>Control</td>\n",
       "      <td>Бытовая техника</td>\n",
       "      <td>7164</td>\n",
       "      <td>709</td>\n",
       "    </tr>\n",
       "    <tr>\n",
       "      <th>7</th>\n",
       "      <td>Variation</td>\n",
       "      <td>Бытовая техника</td>\n",
       "      <td>7247</td>\n",
       "      <td>702</td>\n",
       "    </tr>\n",
       "    <tr>\n",
       "      <th>8</th>\n",
       "      <td>Control</td>\n",
       "      <td>Одежда</td>\n",
       "      <td>5106</td>\n",
       "      <td>272</td>\n",
       "    </tr>\n",
       "    <tr>\n",
       "      <th>9</th>\n",
       "      <td>Variation</td>\n",
       "      <td>Одежда</td>\n",
       "      <td>5115</td>\n",
       "      <td>265</td>\n",
       "    </tr>\n",
       "    <tr>\n",
       "      <th>10</th>\n",
       "      <td>Control</td>\n",
       "      <td>Парфюмерия</td>\n",
       "      <td>2466</td>\n",
       "      <td>135</td>\n",
       "    </tr>\n",
       "    <tr>\n",
       "      <th>11</th>\n",
       "      <td>Variation</td>\n",
       "      <td>Парфюмерия</td>\n",
       "      <td>2567</td>\n",
       "      <td>176</td>\n",
       "    </tr>\n",
       "  </tbody>\n",
       "</table>\n",
       "</div>"
      ],
      "text/plain": [
       "        Ветка        Вертикаль  Страница товара (пользователей)  \\\n",
       "0     Control        Смартфоны                            12137   \n",
       "1   Variation        Смартфоны                            12289   \n",
       "2     Control            Обувь                             5070   \n",
       "3   Variation            Обувь                             5273   \n",
       "4     Control       Компьютеры                             8239   \n",
       "5   Variation       Компьютеры                             8092   \n",
       "6     Control  Бытовая техника                             7164   \n",
       "7   Variation  Бытовая техника                             7247   \n",
       "8     Control           Одежда                             5106   \n",
       "9   Variation           Одежда                             5115   \n",
       "10    Control       Парфюмерия                             2466   \n",
       "11  Variation       Парфюмерия                             2567   \n",
       "\n",
       "    Число покупателей  \n",
       "0                1972  \n",
       "1                2065  \n",
       "2                 268  \n",
       "3                 311  \n",
       "4                 772  \n",
       "5                 752  \n",
       "6                 709  \n",
       "7                 702  \n",
       "8                 272  \n",
       "9                 265  \n",
       "10                135  \n",
       "11                176  "
      ]
     },
     "metadata": {},
     "output_type": "display_data"
    },
    {
     "name": "stdout",
     "output_type": "stream",
     "text": [
      "<class 'pandas.core.frame.DataFrame'>\n",
      "RangeIndex: 12 entries, 0 to 11\n",
      "Data columns (total 4 columns):\n",
      " #   Column                           Non-Null Count  Dtype \n",
      "---  ------                           --------------  ----- \n",
      " 0   Ветка                            12 non-null     object\n",
      " 1   Вертикаль                        12 non-null     object\n",
      " 2   Страница товара (пользователей)  12 non-null     int64 \n",
      " 3   Число покупателей                12 non-null     int64 \n",
      "dtypes: int64(2), object(2)\n",
      "memory usage: 512.0+ bytes\n"
     ]
    },
    {
     "data": {
      "text/plain": [
       "None"
      ]
     },
     "metadata": {},
     "output_type": "display_data"
    }
   ],
   "source": [
    "ab = pd.read_csv('analytical_skills.csv')\n",
    "display(ab)\n",
    "display(ab.info())"
   ]
  },
  {
   "cell_type": "markdown",
   "metadata": {},
   "source": [
    "Стоит переименовать названия столбцов в таблице, чтобы при дальнейшем анализе к ним было удобно обращаться:"
   ]
  },
  {
   "cell_type": "code",
   "execution_count": 3,
   "metadata": {},
   "outputs": [],
   "source": [
    "ab.columns = ['branch', 'category', 'item_page_views', 'purchases']"
   ]
  },
  {
   "cell_type": "markdown",
   "metadata": {},
   "source": [
    "#### Вывод:\n",
    "Был проведен правильный A/B тест, где пользователи, просматривающие товары в 6 различных категориях, были поделены на 2 группы, контрольную (Control) и тестовую (Variation). В каждой категории для каждой из групп, нам известно, сколько пользователей просматривали эту категорию (item_page_views) и сколько зашедших пользователей совершили покупку в этой категории (purchases).\n",
    "* Столбцам присвоены правильные типы данных\n",
    "* Для удобства столбцы были переименованы"
   ]
  },
  {
   "cell_type": "markdown",
   "metadata": {},
   "source": [
    " "
   ]
  },
  {
   "cell_type": "markdown",
   "metadata": {},
   "source": [
    "### Гипотеза\n",
    "\n",
    "Если человек, видит, что товар популярен, то получает больше доверия к товару/продавцу (social proof). Поэтому если показать информацию о том, сколько раз этот товар был куплен, то это может увеличить конверсию.\n",
    "\n",
    "**Задача** - проанализировать результаты теста и выяснить, стоит ли внедрять эту фитчу."
   ]
  },
  {
   "cell_type": "markdown",
   "metadata": {},
   "source": [
    "### Предобработка"
   ]
  },
  {
   "cell_type": "markdown",
   "metadata": {},
   "source": [
    "Отфильтруем данные по группам:"
   ]
  },
  {
   "cell_type": "code",
   "execution_count": 4,
   "metadata": {},
   "outputs": [],
   "source": [
    "sample_A = ab[ab['branch'] == 'Control'].reset_index()\n",
    "sample_B = ab[ab['branch'] == 'Variation'].reset_index()"
   ]
  },
  {
   "cell_type": "markdown",
   "metadata": {},
   "source": [
    "Создадим функцию, которая будет проверять гипотезы о равенстве долей. На вход она будет принимать выборки двух контрольных групп, категорию, по которомй будут сравниваться группы и критический уровень статистической значимости:"
   ]
  },
  {
   "cell_type": "code",
   "execution_count": 5,
   "metadata": {},
   "outputs": [],
   "source": [
    "def z_test(sample_1, sample_2, category_name, alpha=0.05):\n",
    "    \n",
    "    # критический уровень статистической значимости\n",
    "    alpha = alpha\n",
    "    \n",
    "    # число успехов это количество покупок товара в категории\n",
    "    successes_1 = sample_1[sample_1['category'] == category_name]['purchases'].item()\n",
    "    successes_2 = sample_2[sample_2['category'] == category_name]['purchases'].item()\n",
    "    \n",
    "    # число попыток это кол-во просмотров страницы товара в категории\n",
    "    trials_1 = sample_1[sample_1['category'] == category_name]['item_page_views'].item()\n",
    "    trials_2 = sample_1[sample_1['category'] == category_name]['item_page_views'].item()\n",
    "    \n",
    "    #пропорция успехов в первой группе:\n",
    "    p1 = successes_1 / trials_1\n",
    "    #пропорция успехов во второй группе:\n",
    "    p2 = successes_2 / trials_2\n",
    "    #пропорция успехов в комбинированном датасете:\n",
    "    p_combined  = (successes_1 + successes_2) / (trials_1 + trials_2)\n",
    "    #разница пропорций в датасетах\n",
    "    difference = p1 - p2\n",
    "    \n",
    "    #считаем статистику в ст.отклонениях стандартного нормального распределения\n",
    "    z_value = difference / mth.sqrt(p_combined  *  (1 - p_combined ) * (1 / trials_1 + 1 / trials_2))\n",
    "    \n",
    "    #задаем стандартное нормальное распределение (среднее 0, ст.отклонение 1)\n",
    "    distr = st.norm(0, 1) \n",
    "    p_value = (1 - distr.cdf(abs(z_value))) * 2\n",
    "    \n",
    "    print('Группа', sample_1['branch'][0],'насчитывает в категории', category_name,\n",
    "          f'{successes_1} купивших товар пользователей, 'f'доля купивших: {p1:.1%}')\n",
    "    print('Группа', sample_2['branch'][0],'насчитывает в категории', category_name,\n",
    "          f'{successes_2} купивших товар пользователей, 'f'доля купивших: {p2:.1%}')\n",
    "    print()\n",
    "    \n",
    "    print('p-значение: ', p_value)\n",
    "    if (p_value < alpha):\n",
    "        print(\"Отвергаем нулевую гипотезу, между долями есть значимая разница\")\n",
    "    else:\n",
    "        print(\"Не получилось отвергнуть нулевую гипотезу, нет оснований считать доли разными\")"
   ]
  },
  {
   "cell_type": "markdown",
   "metadata": {},
   "source": [
    "### A/B тест\n",
    "* **H0** = Доли купивших товар пользователей двух сравниваемых контрольных групп `равны`\n",
    "* **H1** = Доли купивших товар пользователей двух сравниваемых контрольных групп `различны`"
   ]
  },
  {
   "cell_type": "code",
   "execution_count": 6,
   "metadata": {},
   "outputs": [
    {
     "name": "stdout",
     "output_type": "stream",
     "text": [
      "Группа Control насчитывает в категории Смартфоны 1972 купивших товар пользователей, доля купивших: 16.2%\n",
      "Группа Variation насчитывает в категории Смартфоны 2065 купивших товар пользователей, доля купивших: 17.0%\n",
      "\n",
      "p-значение:  0.10892026381492914\n",
      "Не получилось отвергнуть нулевую гипотезу, нет оснований считать доли разными\n"
     ]
    }
   ],
   "source": [
    "z_test(sample_A, sample_B, 'Смартфоны', alpha=0.05)"
   ]
  },
  {
   "cell_type": "code",
   "execution_count": 7,
   "metadata": {},
   "outputs": [
    {
     "name": "stdout",
     "output_type": "stream",
     "text": [
      "Группа Control насчитывает в категории Обувь 268 купивших товар пользователей, доля купивших: 5.3%\n",
      "Группа Variation насчитывает в категории Обувь 311 купивших товар пользователей, доля купивших: 6.1%\n",
      "\n",
      "p-значение:  0.06571931463689529\n",
      "Не получилось отвергнуть нулевую гипотезу, нет оснований считать доли разными\n"
     ]
    }
   ],
   "source": [
    "z_test(sample_A, sample_B, 'Обувь', alpha=0.05)"
   ]
  },
  {
   "cell_type": "code",
   "execution_count": 8,
   "metadata": {},
   "outputs": [
    {
     "name": "stdout",
     "output_type": "stream",
     "text": [
      "Группа Control насчитывает в категории Компьютеры 772 купивших товар пользователей, доля купивших: 9.4%\n",
      "Группа Variation насчитывает в категории Компьютеры 752 купивших товар пользователей, доля купивших: 9.1%\n",
      "\n",
      "p-значение:  0.590723446569001\n",
      "Не получилось отвергнуть нулевую гипотезу, нет оснований считать доли разными\n"
     ]
    }
   ],
   "source": [
    "z_test(sample_A, sample_B, 'Компьютеры', alpha=0.05)"
   ]
  },
  {
   "cell_type": "code",
   "execution_count": 9,
   "metadata": {},
   "outputs": [
    {
     "name": "stdout",
     "output_type": "stream",
     "text": [
      "Группа Control насчитывает в категории Бытовая техника 709 купивших товар пользователей, доля купивших: 9.9%\n",
      "Группа Variation насчитывает в категории Бытовая техника 702 купивших товар пользователей, доля купивших: 9.8%\n",
      "\n",
      "p-значение:  0.8444014702131721\n",
      "Не получилось отвергнуть нулевую гипотезу, нет оснований считать доли разными\n"
     ]
    }
   ],
   "source": [
    "z_test(sample_A, sample_B, 'Бытовая техника', alpha=0.05)"
   ]
  },
  {
   "cell_type": "code",
   "execution_count": 10,
   "metadata": {},
   "outputs": [
    {
     "name": "stdout",
     "output_type": "stream",
     "text": [
      "Группа Control насчитывает в категории Одежда 272 купивших товар пользователей, доля купивших: 5.3%\n",
      "Группа Variation насчитывает в категории Одежда 265 купивших товар пользователей, доля купивших: 5.2%\n",
      "\n",
      "p-значение:  0.7563007547179244\n",
      "Не получилось отвергнуть нулевую гипотезу, нет оснований считать доли разными\n"
     ]
    }
   ],
   "source": [
    "z_test(sample_A, sample_B, 'Одежда', alpha=0.05)"
   ]
  },
  {
   "cell_type": "code",
   "execution_count": 11,
   "metadata": {
    "scrolled": true
   },
   "outputs": [
    {
     "name": "stdout",
     "output_type": "stream",
     "text": [
      "Группа Control насчитывает в категории Парфюмерия 135 купивших товар пользователей, доля купивших: 5.5%\n",
      "Группа Variation насчитывает в категории Парфюмерия 176 купивших товар пользователей, доля купивших: 7.1%\n",
      "\n",
      "p-значение:  0.016312067705062105\n",
      "Отвергаем нулевую гипотезу, между долями есть значимая разница\n"
     ]
    }
   ],
   "source": [
    "z_test(sample_A, sample_B, 'Парфюмерия', alpha=0.05)"
   ]
  },
  {
   "cell_type": "markdown",
   "metadata": {},
   "source": [
    "### Вывод:\n",
    "Из всех 6-ти проведенных стат. тестов, только в категории \"Парфюмерия\" была найдена значимая разница в доле купивших между двумя сравниваемыми группами. Это может быть связанно с тем, что парфюмерную продукцию трудно оценить онлайн. Когда мы выбираем одежду или технику, основными факторами влиящими на наш выбор становятся внешний вид и характеристики, тогда как приятный цвет и форма флакона хоть и сделают парфюм привлекательнее, но абсолютне ничего не скажут о его характерной черте - аромате. При выборе парфюма мы во многом опираемся на личный опыт или рекомендации, что и могло сработать в этом случае. Покупатель может выбирать какой-то новый аромат для себя или в подарок, опираясь на популярность и отзывы в интернете, получая больше доверия к товару. Исходя из этого может появиться дополнительная гипотеза: если человек видит, что товар, который нельзя оценить визуально или объективно сравнить с другими такими товарами (парфюм, еда для домашних питомцев, пищевая продукция), популярен среди других пользователей, то получает больше доверия к товару или продавцу. Это можно проверить схожим A/B тестом с отличием лишь в сравниваемых категориях. \n",
    "\n",
    "В остальных случаях, добавление блока, с информацией о том, сколько раз этот товар был куплен, никак не повлияло на поведение и покупки пользователей. Внедрять эту фичу, на данном этапе, не стоит. \n",
    "\n",
    "\n",
    "\n",
    "\n",
    "_* если делать поправку на множественное сравнение (Бонферонни или Шидак) - статистическая значимость во всех тестах не позволяет отвергнуть нулевую гипотезу_"
   ]
  }
 ],
 "metadata": {
  "kernelspec": {
   "display_name": "Python 3",
   "language": "python",
   "name": "python3"
  },
  "language_info": {
   "codemirror_mode": {
    "name": "ipython",
    "version": 3
   },
   "file_extension": ".py",
   "mimetype": "text/x-python",
   "name": "python",
   "nbconvert_exporter": "python",
   "pygments_lexer": "ipython3",
   "version": "3.8.3"
  }
 },
 "nbformat": 4,
 "nbformat_minor": 4
}
