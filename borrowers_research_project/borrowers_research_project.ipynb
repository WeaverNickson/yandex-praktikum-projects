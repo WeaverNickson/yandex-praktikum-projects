{
 "cells": [
  {
   "cell_type": "markdown",
   "metadata": {},
   "source": [
    "## Исследование надёжности заёмщиков\n",
    "\n",
    "Заказчик — кредитный отдел банка. Нужно разобраться, влияет ли семейное положение и количество детей клиента на факт погашения кредита в срок. Входные данные от банка — статистика о платёжеспособности клиентов.\n",
    "\n",
    "Результаты исследования будут учтены при построении модели **кредитного скоринга** — специальной системы, которая оценивает способность потенциального заёмщика вернуть кредит банку."
   ]
  },
  {
   "cell_type": "markdown",
   "metadata": {},
   "source": [
    "### Шаг 1. Откройте файл с данными и изучите общую информацию. "
   ]
  },
  {
   "cell_type": "markdown",
   "metadata": {},
   "source": [
    "Импортируем библиотеки pandas, pymystem3, прочитаем файл data.csv и сохраним его в переменной data."
   ]
  },
  {
   "cell_type": "code",
   "execution_count": 1,
   "metadata": {
    "scrolled": false
   },
   "outputs": [],
   "source": [
    "import pandas as pd\n",
    "from pymystem3 import Mystem\n",
    "m = Mystem()\n",
    "data = pd.read_csv('/datasets/data.csv')"
   ]
  },
  {
   "cell_type": "markdown",
   "metadata": {},
   "source": [
    "Посмотрим срез на котором видны выбросы, пропуски и другие проблемы этих данных."
   ]
  },
  {
   "cell_type": "code",
   "execution_count": 2,
   "metadata": {
    "scrolled": false
   },
   "outputs": [
    {
     "data": {
      "text/html": [
       "<div>\n",
       "<style scoped>\n",
       "    .dataframe tbody tr th:only-of-type {\n",
       "        vertical-align: middle;\n",
       "    }\n",
       "\n",
       "    .dataframe tbody tr th {\n",
       "        vertical-align: top;\n",
       "    }\n",
       "\n",
       "    .dataframe thead th {\n",
       "        text-align: right;\n",
       "    }\n",
       "</style>\n",
       "<table border=\"1\" class=\"dataframe\">\n",
       "  <thead>\n",
       "    <tr style=\"text-align: right;\">\n",
       "      <th></th>\n",
       "      <th>children</th>\n",
       "      <th>days_employed</th>\n",
       "      <th>dob_years</th>\n",
       "      <th>education</th>\n",
       "      <th>education_id</th>\n",
       "      <th>family_status</th>\n",
       "      <th>family_status_id</th>\n",
       "      <th>gender</th>\n",
       "      <th>income_type</th>\n",
       "      <th>debt</th>\n",
       "      <th>total_income</th>\n",
       "      <th>purpose</th>\n",
       "    </tr>\n",
       "  </thead>\n",
       "  <tbody>\n",
       "    <tr>\n",
       "      <td>10</td>\n",
       "      <td>2</td>\n",
       "      <td>-4171.483647</td>\n",
       "      <td>36</td>\n",
       "      <td>высшее</td>\n",
       "      <td>0</td>\n",
       "      <td>женат / замужем</td>\n",
       "      <td>0</td>\n",
       "      <td>M</td>\n",
       "      <td>компаньон</td>\n",
       "      <td>0</td>\n",
       "      <td>113943.491460</td>\n",
       "      <td>покупка недвижимости</td>\n",
       "    </tr>\n",
       "    <tr>\n",
       "      <td>11</td>\n",
       "      <td>0</td>\n",
       "      <td>-792.701887</td>\n",
       "      <td>40</td>\n",
       "      <td>среднее</td>\n",
       "      <td>1</td>\n",
       "      <td>женат / замужем</td>\n",
       "      <td>0</td>\n",
       "      <td>F</td>\n",
       "      <td>сотрудник</td>\n",
       "      <td>0</td>\n",
       "      <td>77069.234271</td>\n",
       "      <td>покупка коммерческой недвижимости</td>\n",
       "    </tr>\n",
       "    <tr>\n",
       "      <td>12</td>\n",
       "      <td>0</td>\n",
       "      <td>NaN</td>\n",
       "      <td>65</td>\n",
       "      <td>среднее</td>\n",
       "      <td>1</td>\n",
       "      <td>гражданский брак</td>\n",
       "      <td>1</td>\n",
       "      <td>M</td>\n",
       "      <td>пенсионер</td>\n",
       "      <td>0</td>\n",
       "      <td>NaN</td>\n",
       "      <td>сыграть свадьбу</td>\n",
       "    </tr>\n",
       "    <tr>\n",
       "      <td>13</td>\n",
       "      <td>0</td>\n",
       "      <td>-1846.641941</td>\n",
       "      <td>54</td>\n",
       "      <td>неоконченное высшее</td>\n",
       "      <td>2</td>\n",
       "      <td>женат / замужем</td>\n",
       "      <td>0</td>\n",
       "      <td>F</td>\n",
       "      <td>сотрудник</td>\n",
       "      <td>0</td>\n",
       "      <td>130458.228857</td>\n",
       "      <td>приобретение автомобиля</td>\n",
       "    </tr>\n",
       "    <tr>\n",
       "      <td>14</td>\n",
       "      <td>0</td>\n",
       "      <td>-1844.956182</td>\n",
       "      <td>56</td>\n",
       "      <td>высшее</td>\n",
       "      <td>0</td>\n",
       "      <td>гражданский брак</td>\n",
       "      <td>1</td>\n",
       "      <td>F</td>\n",
       "      <td>компаньон</td>\n",
       "      <td>1</td>\n",
       "      <td>165127.911772</td>\n",
       "      <td>покупка жилой недвижимости</td>\n",
       "    </tr>\n",
       "    <tr>\n",
       "      <td>15</td>\n",
       "      <td>1</td>\n",
       "      <td>-972.364419</td>\n",
       "      <td>26</td>\n",
       "      <td>среднее</td>\n",
       "      <td>1</td>\n",
       "      <td>женат / замужем</td>\n",
       "      <td>0</td>\n",
       "      <td>F</td>\n",
       "      <td>сотрудник</td>\n",
       "      <td>0</td>\n",
       "      <td>116820.904450</td>\n",
       "      <td>строительство собственной недвижимости</td>\n",
       "    </tr>\n",
       "    <tr>\n",
       "      <td>16</td>\n",
       "      <td>0</td>\n",
       "      <td>-1719.934226</td>\n",
       "      <td>35</td>\n",
       "      <td>среднее</td>\n",
       "      <td>1</td>\n",
       "      <td>женат / замужем</td>\n",
       "      <td>0</td>\n",
       "      <td>F</td>\n",
       "      <td>сотрудник</td>\n",
       "      <td>0</td>\n",
       "      <td>289202.704229</td>\n",
       "      <td>недвижимость</td>\n",
       "    </tr>\n",
       "    <tr>\n",
       "      <td>17</td>\n",
       "      <td>0</td>\n",
       "      <td>-2369.999720</td>\n",
       "      <td>33</td>\n",
       "      <td>высшее</td>\n",
       "      <td>0</td>\n",
       "      <td>гражданский брак</td>\n",
       "      <td>1</td>\n",
       "      <td>M</td>\n",
       "      <td>сотрудник</td>\n",
       "      <td>0</td>\n",
       "      <td>90410.586745</td>\n",
       "      <td>строительство недвижимости</td>\n",
       "    </tr>\n",
       "    <tr>\n",
       "      <td>18</td>\n",
       "      <td>0</td>\n",
       "      <td>400281.136913</td>\n",
       "      <td>53</td>\n",
       "      <td>среднее</td>\n",
       "      <td>1</td>\n",
       "      <td>вдовец / вдова</td>\n",
       "      <td>2</td>\n",
       "      <td>F</td>\n",
       "      <td>пенсионер</td>\n",
       "      <td>0</td>\n",
       "      <td>56823.777243</td>\n",
       "      <td>на покупку подержанного автомобиля</td>\n",
       "    </tr>\n",
       "    <tr>\n",
       "      <td>19</td>\n",
       "      <td>0</td>\n",
       "      <td>-10038.818549</td>\n",
       "      <td>48</td>\n",
       "      <td>СРЕДНЕЕ</td>\n",
       "      <td>1</td>\n",
       "      <td>в разводе</td>\n",
       "      <td>3</td>\n",
       "      <td>F</td>\n",
       "      <td>сотрудник</td>\n",
       "      <td>0</td>\n",
       "      <td>242831.107982</td>\n",
       "      <td>на покупку своего автомобиля</td>\n",
       "    </tr>\n",
       "  </tbody>\n",
       "</table>\n",
       "</div>"
      ],
      "text/plain": [
       "    children  days_employed  dob_years            education  education_id  \\\n",
       "10         2   -4171.483647         36               высшее             0   \n",
       "11         0    -792.701887         40              среднее             1   \n",
       "12         0            NaN         65              среднее             1   \n",
       "13         0   -1846.641941         54  неоконченное высшее             2   \n",
       "14         0   -1844.956182         56               высшее             0   \n",
       "15         1    -972.364419         26              среднее             1   \n",
       "16         0   -1719.934226         35              среднее             1   \n",
       "17         0   -2369.999720         33               высшее             0   \n",
       "18         0  400281.136913         53              среднее             1   \n",
       "19         0  -10038.818549         48              СРЕДНЕЕ             1   \n",
       "\n",
       "       family_status  family_status_id gender income_type  debt  \\\n",
       "10   женат / замужем                 0      M   компаньон     0   \n",
       "11   женат / замужем                 0      F   сотрудник     0   \n",
       "12  гражданский брак                 1      M   пенсионер     0   \n",
       "13   женат / замужем                 0      F   сотрудник     0   \n",
       "14  гражданский брак                 1      F   компаньон     1   \n",
       "15   женат / замужем                 0      F   сотрудник     0   \n",
       "16   женат / замужем                 0      F   сотрудник     0   \n",
       "17  гражданский брак                 1      M   сотрудник     0   \n",
       "18    вдовец / вдова                 2      F   пенсионер     0   \n",
       "19         в разводе                 3      F   сотрудник     0   \n",
       "\n",
       "     total_income                                 purpose  \n",
       "10  113943.491460                    покупка недвижимости  \n",
       "11   77069.234271       покупка коммерческой недвижимости  \n",
       "12            NaN                         сыграть свадьбу  \n",
       "13  130458.228857                 приобретение автомобиля  \n",
       "14  165127.911772              покупка жилой недвижимости  \n",
       "15  116820.904450  строительство собственной недвижимости  \n",
       "16  289202.704229                            недвижимость  \n",
       "17   90410.586745              строительство недвижимости  \n",
       "18   56823.777243      на покупку подержанного автомобиля  \n",
       "19  242831.107982            на покупку своего автомобиля  "
      ]
     },
     "execution_count": 2,
     "metadata": {},
     "output_type": "execute_result"
    }
   ],
   "source": [
    "data[10:20]"
   ]
  },
  {
   "cell_type": "markdown",
   "metadata": {},
   "source": [
    "Общая информация о данных таблицы data."
   ]
  },
  {
   "cell_type": "code",
   "execution_count": 3,
   "metadata": {
    "scrolled": true
   },
   "outputs": [
    {
     "name": "stdout",
     "output_type": "stream",
     "text": [
      "<class 'pandas.core.frame.DataFrame'>\n",
      "RangeIndex: 21525 entries, 0 to 21524\n",
      "Data columns (total 12 columns):\n",
      "children            21525 non-null int64\n",
      "days_employed       19351 non-null float64\n",
      "dob_years           21525 non-null int64\n",
      "education           21525 non-null object\n",
      "education_id        21525 non-null int64\n",
      "family_status       21525 non-null object\n",
      "family_status_id    21525 non-null int64\n",
      "gender              21525 non-null object\n",
      "income_type         21525 non-null object\n",
      "debt                21525 non-null int64\n",
      "total_income        19351 non-null float64\n",
      "purpose             21525 non-null object\n",
      "dtypes: float64(2), int64(5), object(5)\n",
      "memory usage: 2.0+ MB\n"
     ]
    }
   ],
   "source": [
    "data.info()"
   ]
  },
  {
   "cell_type": "markdown",
   "metadata": {},
   "source": [
    "Всего в таблице 12 столбцов с целочисленными, вещественными и object типами данных.\n",
    "\n",
    "Название столбцов и описание информации, которую они содержат:\n",
    "* children — количество детей в семье\n",
    "* days_employed — общий трудовой стаж в днях\n",
    "* dob_years — возраст клиента в годах\n",
    "* education — уровень образования клиента\n",
    "* education_id — идентификатор уровня образования\n",
    "* family_status — семейное положение\n",
    "* family_status_id — идентификатор семейного положения\n",
    "* gender — пол клиента\n",
    "* income_type — тип занятости\n",
    "* debt — имел ли задолженность по возврату кредитов\n",
    "* total_income — ежемесячный доход\n",
    "* purpose — цель получения кредита"
   ]
  },
  {
   "cell_type": "markdown",
   "metadata": {},
   "source": [
    "### Вывод"
   ]
  },
  {
   "cell_type": "markdown",
   "metadata": {},
   "source": [
    "Данные записаны плохо. В столбце days_employed видны пропущенные значения, аномальный трудовой стаж и отрицательные значения. Столбец total_income также имеет пропуски и записан в виде чисел с плавающей точкой. Слова в education отличаются по регистру, что точно помешает в дальнейшей обработке. Это проблемы, которые видны на срезе. Перед тем, как приступать к анализу, стоит предобработать данные. |"
   ]
  },
  {
   "cell_type": "markdown",
   "metadata": {},
   "source": [
    "### Шаг 2. Предобработка данных"
   ]
  },
  {
   "cell_type": "markdown",
   "metadata": {},
   "source": [
    "### Обработка пропусков"
   ]
  },
  {
   "cell_type": "markdown",
   "metadata": {},
   "source": [
    "Определим, в каких столбцах встречаются пропуски."
   ]
  },
  {
   "cell_type": "code",
   "execution_count": 4,
   "metadata": {
    "scrolled": true
   },
   "outputs": [
    {
     "data": {
      "text/plain": [
       "children               0\n",
       "days_employed       2174\n",
       "dob_years              0\n",
       "education              0\n",
       "education_id           0\n",
       "family_status          0\n",
       "family_status_id       0\n",
       "gender                 0\n",
       "income_type            0\n",
       "debt                   0\n",
       "total_income        2174\n",
       "purpose                0\n",
       "dtype: int64"
      ]
     },
     "execution_count": 4,
     "metadata": {},
     "output_type": "execute_result"
    }
   ],
   "source": [
    "data.isna().sum()"
   ]
  },
  {
   "cell_type": "markdown",
   "metadata": {},
   "source": [
    "Пропуски есть в двух столбцах. Начнем с days_employed, рассмотрим его."
   ]
  },
  {
   "cell_type": "markdown",
   "metadata": {},
   "source": [
    "##### Обработка пропусков столбца days_employed"
   ]
  },
  {
   "cell_type": "code",
   "execution_count": 5,
   "metadata": {},
   "outputs": [
    {
     "data": {
      "text/plain": [
       "0     -8437.673028\n",
       "1     -4024.803754\n",
       "2     -5623.422610\n",
       "3     -4124.747207\n",
       "4    340266.072047\n",
       "5      -926.185831\n",
       "6     -2879.202052\n",
       "7      -152.779569\n",
       "8     -6929.865299\n",
       "9     -2188.756445\n",
       "Name: days_employed, dtype: float64"
      ]
     },
     "execution_count": 5,
     "metadata": {},
     "output_type": "execute_result"
    }
   ],
   "source": [
    "data['days_employed'].head(10)"
   ]
  },
  {
   "cell_type": "markdown",
   "metadata": {},
   "source": [
    "Days_employed содержит информацию об общем трудовом стаже в днях. Данные записаны в виде отрицательных чисел с плавающей точкой, что неудобно для восприятия и стоит изменить тип данных на целочисленный и убрать минус. Также встречается аномально большой стаж. "
   ]
  },
  {
   "cell_type": "markdown",
   "metadata": {},
   "source": [
    "Приведем числа в столбце к абсолютным, методом abs(), чтобы избавиться от минусов."
   ]
  },
  {
   "cell_type": "code",
   "execution_count": 6,
   "metadata": {
    "scrolled": false
   },
   "outputs": [
    {
     "data": {
      "text/plain": [
       "0      8437.673028\n",
       "1      4024.803754\n",
       "2      5623.422610\n",
       "3      4124.747207\n",
       "4    340266.072047\n",
       "5       926.185831\n",
       "6      2879.202052\n",
       "7       152.779569\n",
       "8      6929.865299\n",
       "9      2188.756445\n",
       "Name: days_employed, dtype: float64"
      ]
     },
     "execution_count": 6,
     "metadata": {},
     "output_type": "execute_result"
    }
   ],
   "source": [
    "data['days_employed'] = abs(data['days_employed'])\n",
    "data['days_employed'].head(10)"
   ]
  },
  {
   "cell_type": "markdown",
   "metadata": {},
   "source": [
    "Кажется, что некоторые значения в столбце days_employed записаны не в днях, а в часах. Такие строки выдают слишком большие значения. Отсортируем таблицу по убыванию чтобы их увидеть."
   ]
  },
  {
   "cell_type": "code",
   "execution_count": 7,
   "metadata": {
    "scrolled": true
   },
   "outputs": [
    {
     "data": {
      "text/html": [
       "<div>\n",
       "<style scoped>\n",
       "    .dataframe tbody tr th:only-of-type {\n",
       "        vertical-align: middle;\n",
       "    }\n",
       "\n",
       "    .dataframe tbody tr th {\n",
       "        vertical-align: top;\n",
       "    }\n",
       "\n",
       "    .dataframe thead th {\n",
       "        text-align: right;\n",
       "    }\n",
       "</style>\n",
       "<table border=\"1\" class=\"dataframe\">\n",
       "  <thead>\n",
       "    <tr style=\"text-align: right;\">\n",
       "      <th></th>\n",
       "      <th>children</th>\n",
       "      <th>days_employed</th>\n",
       "      <th>dob_years</th>\n",
       "      <th>education</th>\n",
       "      <th>education_id</th>\n",
       "      <th>family_status</th>\n",
       "      <th>family_status_id</th>\n",
       "      <th>gender</th>\n",
       "      <th>income_type</th>\n",
       "      <th>debt</th>\n",
       "      <th>total_income</th>\n",
       "      <th>purpose</th>\n",
       "    </tr>\n",
       "  </thead>\n",
       "  <tbody>\n",
       "    <tr>\n",
       "      <td>6954</td>\n",
       "      <td>0</td>\n",
       "      <td>401755.400475</td>\n",
       "      <td>56</td>\n",
       "      <td>среднее</td>\n",
       "      <td>1</td>\n",
       "      <td>вдовец / вдова</td>\n",
       "      <td>2</td>\n",
       "      <td>F</td>\n",
       "      <td>пенсионер</td>\n",
       "      <td>0</td>\n",
       "      <td>176278.441171</td>\n",
       "      <td>ремонт жилью</td>\n",
       "    </tr>\n",
       "    <tr>\n",
       "      <td>10006</td>\n",
       "      <td>0</td>\n",
       "      <td>401715.811749</td>\n",
       "      <td>69</td>\n",
       "      <td>высшее</td>\n",
       "      <td>0</td>\n",
       "      <td>Не женат / не замужем</td>\n",
       "      <td>4</td>\n",
       "      <td>F</td>\n",
       "      <td>пенсионер</td>\n",
       "      <td>0</td>\n",
       "      <td>57390.256908</td>\n",
       "      <td>получение образования</td>\n",
       "    </tr>\n",
       "    <tr>\n",
       "      <td>7664</td>\n",
       "      <td>1</td>\n",
       "      <td>401675.093434</td>\n",
       "      <td>61</td>\n",
       "      <td>среднее</td>\n",
       "      <td>1</td>\n",
       "      <td>женат / замужем</td>\n",
       "      <td>0</td>\n",
       "      <td>F</td>\n",
       "      <td>пенсионер</td>\n",
       "      <td>0</td>\n",
       "      <td>126214.519212</td>\n",
       "      <td>операции с жильем</td>\n",
       "    </tr>\n",
       "    <tr>\n",
       "      <td>2156</td>\n",
       "      <td>0</td>\n",
       "      <td>401674.466633</td>\n",
       "      <td>60</td>\n",
       "      <td>среднее</td>\n",
       "      <td>1</td>\n",
       "      <td>женат / замужем</td>\n",
       "      <td>0</td>\n",
       "      <td>M</td>\n",
       "      <td>пенсионер</td>\n",
       "      <td>0</td>\n",
       "      <td>325395.724541</td>\n",
       "      <td>автомобили</td>\n",
       "    </tr>\n",
       "    <tr>\n",
       "      <td>7794</td>\n",
       "      <td>0</td>\n",
       "      <td>401663.850046</td>\n",
       "      <td>61</td>\n",
       "      <td>среднее</td>\n",
       "      <td>1</td>\n",
       "      <td>гражданский брак</td>\n",
       "      <td>1</td>\n",
       "      <td>F</td>\n",
       "      <td>пенсионер</td>\n",
       "      <td>0</td>\n",
       "      <td>48286.441362</td>\n",
       "      <td>свадьба</td>\n",
       "    </tr>\n",
       "    <tr>\n",
       "      <td>4697</td>\n",
       "      <td>0</td>\n",
       "      <td>401635.032697</td>\n",
       "      <td>56</td>\n",
       "      <td>среднее</td>\n",
       "      <td>1</td>\n",
       "      <td>женат / замужем</td>\n",
       "      <td>0</td>\n",
       "      <td>F</td>\n",
       "      <td>пенсионер</td>\n",
       "      <td>0</td>\n",
       "      <td>48242.322502</td>\n",
       "      <td>покупка недвижимости</td>\n",
       "    </tr>\n",
       "    <tr>\n",
       "      <td>13420</td>\n",
       "      <td>0</td>\n",
       "      <td>401619.633298</td>\n",
       "      <td>63</td>\n",
       "      <td>Среднее</td>\n",
       "      <td>1</td>\n",
       "      <td>гражданский брак</td>\n",
       "      <td>1</td>\n",
       "      <td>F</td>\n",
       "      <td>пенсионер</td>\n",
       "      <td>0</td>\n",
       "      <td>51449.788325</td>\n",
       "      <td>сыграть свадьбу</td>\n",
       "    </tr>\n",
       "    <tr>\n",
       "      <td>17823</td>\n",
       "      <td>0</td>\n",
       "      <td>401614.475622</td>\n",
       "      <td>59</td>\n",
       "      <td>среднее</td>\n",
       "      <td>1</td>\n",
       "      <td>женат / замужем</td>\n",
       "      <td>0</td>\n",
       "      <td>F</td>\n",
       "      <td>пенсионер</td>\n",
       "      <td>0</td>\n",
       "      <td>152769.694536</td>\n",
       "      <td>покупка жилья для сдачи</td>\n",
       "    </tr>\n",
       "    <tr>\n",
       "      <td>10991</td>\n",
       "      <td>0</td>\n",
       "      <td>401591.828457</td>\n",
       "      <td>56</td>\n",
       "      <td>среднее</td>\n",
       "      <td>1</td>\n",
       "      <td>в разводе</td>\n",
       "      <td>3</td>\n",
       "      <td>F</td>\n",
       "      <td>пенсионер</td>\n",
       "      <td>0</td>\n",
       "      <td>39513.517543</td>\n",
       "      <td>получение дополнительного образования</td>\n",
       "    </tr>\n",
       "    <tr>\n",
       "      <td>8369</td>\n",
       "      <td>0</td>\n",
       "      <td>401590.452231</td>\n",
       "      <td>58</td>\n",
       "      <td>среднее</td>\n",
       "      <td>1</td>\n",
       "      <td>женат / замужем</td>\n",
       "      <td>0</td>\n",
       "      <td>F</td>\n",
       "      <td>пенсионер</td>\n",
       "      <td>0</td>\n",
       "      <td>175306.312902</td>\n",
       "      <td>образование</td>\n",
       "    </tr>\n",
       "  </tbody>\n",
       "</table>\n",
       "</div>"
      ],
      "text/plain": [
       "       children  days_employed  dob_years education  education_id  \\\n",
       "6954          0  401755.400475         56   среднее             1   \n",
       "10006         0  401715.811749         69    высшее             0   \n",
       "7664          1  401675.093434         61   среднее             1   \n",
       "2156          0  401674.466633         60   среднее             1   \n",
       "7794          0  401663.850046         61   среднее             1   \n",
       "4697          0  401635.032697         56   среднее             1   \n",
       "13420         0  401619.633298         63   Среднее             1   \n",
       "17823         0  401614.475622         59   среднее             1   \n",
       "10991         0  401591.828457         56   среднее             1   \n",
       "8369          0  401590.452231         58   среднее             1   \n",
       "\n",
       "               family_status  family_status_id gender income_type  debt  \\\n",
       "6954          вдовец / вдова                 2      F   пенсионер     0   \n",
       "10006  Не женат / не замужем                 4      F   пенсионер     0   \n",
       "7664         женат / замужем                 0      F   пенсионер     0   \n",
       "2156         женат / замужем                 0      M   пенсионер     0   \n",
       "7794        гражданский брак                 1      F   пенсионер     0   \n",
       "4697         женат / замужем                 0      F   пенсионер     0   \n",
       "13420       гражданский брак                 1      F   пенсионер     0   \n",
       "17823        женат / замужем                 0      F   пенсионер     0   \n",
       "10991              в разводе                 3      F   пенсионер     0   \n",
       "8369         женат / замужем                 0      F   пенсионер     0   \n",
       "\n",
       "        total_income                                purpose  \n",
       "6954   176278.441171                           ремонт жилью  \n",
       "10006   57390.256908                  получение образования  \n",
       "7664   126214.519212                      операции с жильем  \n",
       "2156   325395.724541                             автомобили  \n",
       "7794    48286.441362                                свадьба  \n",
       "4697    48242.322502                   покупка недвижимости  \n",
       "13420   51449.788325                        сыграть свадьбу  \n",
       "17823  152769.694536                покупка жилья для сдачи  \n",
       "10991   39513.517543  получение дополнительного образования  \n",
       "8369   175306.312902                            образование  "
      ]
     },
     "execution_count": 7,
     "metadata": {},
     "output_type": "execute_result"
    }
   ],
   "source": [
    "data.sort_values(by = ['days_employed'], ascending = False).head(10)"
   ]
  },
  {
   "cell_type": "markdown",
   "metadata": {},
   "source": [
    "#### 401755 дней стажа \\ 365 дней в году = 1100 лет стажа.\n",
    "И таких данных много. Похоже на техническую ошибку. Стоит рассказать источнику данных о том, что некоторые данные записаны в часах. "
   ]
  },
  {
   "cell_type": "markdown",
   "metadata": {},
   "source": [
    "Предположим, что максимальный адекватный стаж в днях - 20000. Напишем функцию, которая будет обрабатывать строки в столбце days_employed и будет считать значения выше 20000 за часы и переводить их в дни. Применим метод apply(), который берёт значения столбца датафрейма и применяет к ним функцию из своего аргумента."
   ]
  },
  {
   "cell_type": "code",
   "execution_count": 8,
   "metadata": {},
   "outputs": [
    {
     "data": {
      "text/plain": [
       "0         8437.673028\n",
       "1         4024.803754\n",
       "2         5623.422610\n",
       "3         4124.747207\n",
       "4        14177.753002\n",
       "             ...     \n",
       "21520     4529.316663\n",
       "21521    14330.725172\n",
       "21522     2113.346888\n",
       "21523     3112.481705\n",
       "21524     1984.507589\n",
       "Name: days_employed, Length: 21525, dtype: float64"
      ]
     },
     "execution_count": 8,
     "metadata": {},
     "output_type": "execute_result"
    }
   ],
   "source": [
    "def hours_to_days(row):\n",
    "    if row > 20000: \n",
    "        return row / 24\n",
    "    return row\n",
    "\n",
    "data['days_employed'].apply(hours_to_days)"
   ]
  },
  {
   "cell_type": "markdown",
   "metadata": {},
   "source": [
    "Days_employed теперь читабелен и почищен, в следующем шаге изменим его тип данных. "
   ]
  },
  {
   "cell_type": "markdown",
   "metadata": {},
   "source": [
    "##### Обработка столбца total_income"
   ]
  },
  {
   "cell_type": "markdown",
   "metadata": {},
   "source": [
    "Займемся следующим столбцом с пропусками - total_income. Посмотрим, в каких рабочих группах встречаются пропуски."
   ]
  },
  {
   "cell_type": "code",
   "execution_count": 9,
   "metadata": {},
   "outputs": [
    {
     "data": {
      "text/plain": [
       "income_type\n",
       "госслужащий        [nan]\n",
       "компаньон          [nan]\n",
       "пенсионер          [nan]\n",
       "предприниматель    [nan]\n",
       "сотрудник          [nan]\n",
       "Name: total_income, dtype: object"
      ]
     },
     "execution_count": 9,
     "metadata": {},
     "output_type": "execute_result"
    }
   ],
   "source": [
    "data_nan_income = data[data['total_income'].isna()]\n",
    "data_nan_income.groupby('income_type')['total_income'].unique()"
   ]
  },
  {
   "cell_type": "markdown",
   "metadata": {},
   "source": [
    "Заменим NaNы на медиану, найденную из доходов определенных рабочих групп из столбца income_type."
   ]
  },
  {
   "cell_type": "code",
   "execution_count": 10,
   "metadata": {},
   "outputs": [],
   "source": [
    "#для сотрудников\n",
    "employers_median = data.loc[(data['income_type'] == 'сотрудник'), 'total_income'].median()\n",
    "data[data['income_type'] == 'сотрудник'] = data[data['income_type'] == 'сотрудник'].fillna(employers_median)\n",
    "\n",
    "#для компаньенов\n",
    "companion_median = data.loc[(data['income_type'] == 'компаньон'), 'total_income'].median()\n",
    "data[data['income_type'] == 'компаньон'] = data[data['income_type'] == 'компаньон'].fillna(employers_median)\n",
    "\n",
    "#для пенсионеров\n",
    "pensioner_median = data.loc[(data['income_type'] == 'пенсионер'), 'total_income'].median()\n",
    "data[data['income_type'] == 'пенсионер'] = data[data['income_type'] == 'пенсионер'].fillna(employers_median)\n",
    "\n",
    "#для госслужащих \n",
    "governer_median = data.loc[(data['income_type'] == 'госслужащий'), 'total_income'].median()\n",
    "data[data['income_type'] == 'госслужащий'] = data[data['income_type'] == 'госслужащий'].fillna(employers_median)\n",
    "\n",
    "#для предпренимателей\n",
    "entrepreneurs_median = data.loc[(data['income_type'] == 'предприниматель'), 'total_income'].median()\n",
    "data[data['income_type'] == 'предприниматель'] = data[data['income_type'] == 'предприниматель'].fillna(employers_median)"
   ]
  },
  {
   "cell_type": "markdown",
   "metadata": {},
   "source": [
    "Проверим количество нулевых значений в таблице."
   ]
  },
  {
   "cell_type": "code",
   "execution_count": 11,
   "metadata": {
    "scrolled": true
   },
   "outputs": [
    {
     "data": {
      "text/plain": [
       "children            0\n",
       "days_employed       0\n",
       "dob_years           0\n",
       "education           0\n",
       "education_id        0\n",
       "family_status       0\n",
       "family_status_id    0\n",
       "gender              0\n",
       "income_type         0\n",
       "debt                0\n",
       "total_income        0\n",
       "purpose             0\n",
       "dtype: int64"
      ]
     },
     "execution_count": 11,
     "metadata": {},
     "output_type": "execute_result"
    }
   ],
   "source": [
    "data.isna().sum()"
   ]
  },
  {
   "cell_type": "markdown",
   "metadata": {},
   "source": [
    "##### Обработка столбца children"
   ]
  },
  {
   "cell_type": "markdown",
   "metadata": {},
   "source": [
    "Проверим столбец children, т.к в нем были замечены странные значения."
   ]
  },
  {
   "cell_type": "code",
   "execution_count": 12,
   "metadata": {
    "scrolled": true
   },
   "outputs": [
    {
     "data": {
      "text/plain": [
       " 0     14149\n",
       " 1      4818\n",
       " 2      2055\n",
       " 3       330\n",
       " 20       76\n",
       "-1        47\n",
       " 4        41\n",
       " 5         9\n",
       "Name: children, dtype: int64"
      ]
     },
     "execution_count": 12,
     "metadata": {},
     "output_type": "execute_result"
    }
   ],
   "source": [
    "data['children'].value_counts()"
   ]
  },
  {
   "cell_type": "markdown",
   "metadata": {},
   "source": [
    "Обнаружились отрицательные значения и аномальная 20-ка. Приведем числа к абсолютным, что-бы исключить минусы и предположим, что 20 - это неверная запись 2 и вернем эти значения на свое место."
   ]
  },
  {
   "cell_type": "code",
   "execution_count": 13,
   "metadata": {
    "scrolled": true
   },
   "outputs": [
    {
     "data": {
      "text/plain": [
       "0    14149\n",
       "1     4865\n",
       "2     2131\n",
       "3      330\n",
       "4       41\n",
       "5        9\n",
       "Name: children, dtype: int64"
      ]
     },
     "execution_count": 13,
     "metadata": {},
     "output_type": "execute_result"
    }
   ],
   "source": [
    "data['children'] = abs(data['children'])\n",
    "data['children'] = data['children'].replace(20, 2)\n",
    "data['children'].value_counts()"
   ]
  },
  {
   "cell_type": "markdown",
   "metadata": {},
   "source": [
    "### Вывод"
   ]
  },
  {
   "cell_type": "markdown",
   "metadata": {},
   "source": [
    "Похоже, что пропуски в данных вызваны ошибкой при их обработке или записи. Также тот факт, что большая часть данных записана в часах, может исказить реальную картину, о чем следует сказать источнику данных."
   ]
  },
  {
   "cell_type": "markdown",
   "metadata": {},
   "source": [
    "### Замена типа данных"
   ]
  },
  {
   "cell_type": "markdown",
   "metadata": {},
   "source": [
    "Посмотри, какие типы данных есть в нашей таблице."
   ]
  },
  {
   "cell_type": "code",
   "execution_count": 14,
   "metadata": {},
   "outputs": [
    {
     "data": {
      "text/plain": [
       "children              int64\n",
       "days_employed       float64\n",
       "dob_years             int64\n",
       "education            object\n",
       "education_id          int64\n",
       "family_status        object\n",
       "family_status_id      int64\n",
       "gender               object\n",
       "income_type          object\n",
       "debt                  int64\n",
       "total_income        float64\n",
       "purpose              object\n",
       "dtype: object"
      ]
     },
     "execution_count": 14,
     "metadata": {},
     "output_type": "execute_result"
    }
   ],
   "source": [
    "data.dtypes"
   ]
  },
  {
   "cell_type": "markdown",
   "metadata": {},
   "source": [
    "Меня смущает, что дни в столбце days_employed записаны как числа с плавающей точкой. Изменим вещественный тип данных на целочисленный, т.к. это полные сутки. Используем метод astype(), который позволяет четко указывать dtype, который мы хотим иметь в своем DataFrame. Он очень универсален в том, что мы можем попробовать перейти от одного типа к другому."
   ]
  },
  {
   "cell_type": "code",
   "execution_count": 15,
   "metadata": {},
   "outputs": [],
   "source": [
    "data['days_employed'] = data['days_employed'].astype('int')"
   ]
  },
  {
   "cell_type": "markdown",
   "metadata": {},
   "source": [
    "Также можно изменить тип данных у столбца total_income."
   ]
  },
  {
   "cell_type": "code",
   "execution_count": 16,
   "metadata": {},
   "outputs": [],
   "source": [
    "data['total_income'] = data['total_income'].astype('int')"
   ]
  },
  {
   "cell_type": "markdown",
   "metadata": {},
   "source": [
    "### Вывод"
   ]
  },
  {
   "cell_type": "markdown",
   "metadata": {},
   "source": [
    "Данные бывают разных типов, не всегда походящих для анализа. Для удобства дальнейших расчетов можно изменять типы данных."
   ]
  },
  {
   "cell_type": "markdown",
   "metadata": {},
   "source": [
    "### Обработка дубликатов"
   ]
  },
  {
   "cell_type": "markdown",
   "metadata": {},
   "source": [
    "Проверим, есть ли в таблице дубликаты."
   ]
  },
  {
   "cell_type": "code",
   "execution_count": 17,
   "metadata": {},
   "outputs": [
    {
     "data": {
      "text/plain": [
       "54"
      ]
     },
     "execution_count": 17,
     "metadata": {},
     "output_type": "execute_result"
    }
   ],
   "source": [
    "data.duplicated().sum()"
   ]
  },
  {
   "cell_type": "markdown",
   "metadata": {},
   "source": [
    "Рассмотрим их."
   ]
  },
  {
   "cell_type": "code",
   "execution_count": 18,
   "metadata": {
    "scrolled": true
   },
   "outputs": [
    {
     "data": {
      "text/html": [
       "<div>\n",
       "<style scoped>\n",
       "    .dataframe tbody tr th:only-of-type {\n",
       "        vertical-align: middle;\n",
       "    }\n",
       "\n",
       "    .dataframe tbody tr th {\n",
       "        vertical-align: top;\n",
       "    }\n",
       "\n",
       "    .dataframe thead th {\n",
       "        text-align: right;\n",
       "    }\n",
       "</style>\n",
       "<table border=\"1\" class=\"dataframe\">\n",
       "  <thead>\n",
       "    <tr style=\"text-align: right;\">\n",
       "      <th></th>\n",
       "      <th>children</th>\n",
       "      <th>days_employed</th>\n",
       "      <th>dob_years</th>\n",
       "      <th>education</th>\n",
       "      <th>education_id</th>\n",
       "      <th>family_status</th>\n",
       "      <th>family_status_id</th>\n",
       "      <th>gender</th>\n",
       "      <th>income_type</th>\n",
       "      <th>debt</th>\n",
       "      <th>total_income</th>\n",
       "      <th>purpose</th>\n",
       "    </tr>\n",
       "  </thead>\n",
       "  <tbody>\n",
       "    <tr>\n",
       "      <td>2849</td>\n",
       "      <td>0</td>\n",
       "      <td>142594</td>\n",
       "      <td>41</td>\n",
       "      <td>среднее</td>\n",
       "      <td>1</td>\n",
       "      <td>женат / замужем</td>\n",
       "      <td>0</td>\n",
       "      <td>F</td>\n",
       "      <td>сотрудник</td>\n",
       "      <td>0</td>\n",
       "      <td>142594</td>\n",
       "      <td>покупка жилья для семьи</td>\n",
       "    </tr>\n",
       "    <tr>\n",
       "      <td>4182</td>\n",
       "      <td>1</td>\n",
       "      <td>142594</td>\n",
       "      <td>34</td>\n",
       "      <td>ВЫСШЕЕ</td>\n",
       "      <td>0</td>\n",
       "      <td>гражданский брак</td>\n",
       "      <td>1</td>\n",
       "      <td>F</td>\n",
       "      <td>сотрудник</td>\n",
       "      <td>0</td>\n",
       "      <td>142594</td>\n",
       "      <td>свадьба</td>\n",
       "    </tr>\n",
       "    <tr>\n",
       "      <td>4851</td>\n",
       "      <td>0</td>\n",
       "      <td>142594</td>\n",
       "      <td>60</td>\n",
       "      <td>среднее</td>\n",
       "      <td>1</td>\n",
       "      <td>гражданский брак</td>\n",
       "      <td>1</td>\n",
       "      <td>F</td>\n",
       "      <td>пенсионер</td>\n",
       "      <td>0</td>\n",
       "      <td>142594</td>\n",
       "      <td>свадьба</td>\n",
       "    </tr>\n",
       "    <tr>\n",
       "      <td>5557</td>\n",
       "      <td>0</td>\n",
       "      <td>142594</td>\n",
       "      <td>58</td>\n",
       "      <td>среднее</td>\n",
       "      <td>1</td>\n",
       "      <td>гражданский брак</td>\n",
       "      <td>1</td>\n",
       "      <td>F</td>\n",
       "      <td>пенсионер</td>\n",
       "      <td>0</td>\n",
       "      <td>142594</td>\n",
       "      <td>сыграть свадьбу</td>\n",
       "    </tr>\n",
       "    <tr>\n",
       "      <td>7808</td>\n",
       "      <td>0</td>\n",
       "      <td>142594</td>\n",
       "      <td>57</td>\n",
       "      <td>среднее</td>\n",
       "      <td>1</td>\n",
       "      <td>гражданский брак</td>\n",
       "      <td>1</td>\n",
       "      <td>F</td>\n",
       "      <td>пенсионер</td>\n",
       "      <td>0</td>\n",
       "      <td>142594</td>\n",
       "      <td>на проведение свадьбы</td>\n",
       "    </tr>\n",
       "    <tr>\n",
       "      <td>8583</td>\n",
       "      <td>0</td>\n",
       "      <td>142594</td>\n",
       "      <td>58</td>\n",
       "      <td>высшее</td>\n",
       "      <td>0</td>\n",
       "      <td>Не женат / не замужем</td>\n",
       "      <td>4</td>\n",
       "      <td>F</td>\n",
       "      <td>пенсионер</td>\n",
       "      <td>0</td>\n",
       "      <td>142594</td>\n",
       "      <td>дополнительное образование</td>\n",
       "    </tr>\n",
       "    <tr>\n",
       "      <td>9238</td>\n",
       "      <td>2</td>\n",
       "      <td>142594</td>\n",
       "      <td>34</td>\n",
       "      <td>среднее</td>\n",
       "      <td>1</td>\n",
       "      <td>женат / замужем</td>\n",
       "      <td>0</td>\n",
       "      <td>F</td>\n",
       "      <td>сотрудник</td>\n",
       "      <td>0</td>\n",
       "      <td>142594</td>\n",
       "      <td>покупка жилья для сдачи</td>\n",
       "    </tr>\n",
       "    <tr>\n",
       "      <td>9528</td>\n",
       "      <td>0</td>\n",
       "      <td>142594</td>\n",
       "      <td>66</td>\n",
       "      <td>среднее</td>\n",
       "      <td>1</td>\n",
       "      <td>вдовец / вдова</td>\n",
       "      <td>2</td>\n",
       "      <td>F</td>\n",
       "      <td>пенсионер</td>\n",
       "      <td>0</td>\n",
       "      <td>142594</td>\n",
       "      <td>операции со своей недвижимостью</td>\n",
       "    </tr>\n",
       "    <tr>\n",
       "      <td>9627</td>\n",
       "      <td>0</td>\n",
       "      <td>142594</td>\n",
       "      <td>56</td>\n",
       "      <td>среднее</td>\n",
       "      <td>1</td>\n",
       "      <td>женат / замужем</td>\n",
       "      <td>0</td>\n",
       "      <td>F</td>\n",
       "      <td>пенсионер</td>\n",
       "      <td>0</td>\n",
       "      <td>142594</td>\n",
       "      <td>операции со своей недвижимостью</td>\n",
       "    </tr>\n",
       "    <tr>\n",
       "      <td>10462</td>\n",
       "      <td>0</td>\n",
       "      <td>142594</td>\n",
       "      <td>62</td>\n",
       "      <td>среднее</td>\n",
       "      <td>1</td>\n",
       "      <td>женат / замужем</td>\n",
       "      <td>0</td>\n",
       "      <td>F</td>\n",
       "      <td>пенсионер</td>\n",
       "      <td>0</td>\n",
       "      <td>142594</td>\n",
       "      <td>покупка коммерческой недвижимости</td>\n",
       "    </tr>\n",
       "    <tr>\n",
       "      <td>10697</td>\n",
       "      <td>0</td>\n",
       "      <td>142594</td>\n",
       "      <td>40</td>\n",
       "      <td>среднее</td>\n",
       "      <td>1</td>\n",
       "      <td>гражданский брак</td>\n",
       "      <td>1</td>\n",
       "      <td>F</td>\n",
       "      <td>компаньон</td>\n",
       "      <td>0</td>\n",
       "      <td>142594</td>\n",
       "      <td>сыграть свадьбу</td>\n",
       "    </tr>\n",
       "    <tr>\n",
       "      <td>10864</td>\n",
       "      <td>0</td>\n",
       "      <td>142594</td>\n",
       "      <td>62</td>\n",
       "      <td>среднее</td>\n",
       "      <td>1</td>\n",
       "      <td>женат / замужем</td>\n",
       "      <td>0</td>\n",
       "      <td>F</td>\n",
       "      <td>пенсионер</td>\n",
       "      <td>0</td>\n",
       "      <td>142594</td>\n",
       "      <td>ремонт жилью</td>\n",
       "    </tr>\n",
       "    <tr>\n",
       "      <td>10994</td>\n",
       "      <td>0</td>\n",
       "      <td>142594</td>\n",
       "      <td>62</td>\n",
       "      <td>среднее</td>\n",
       "      <td>1</td>\n",
       "      <td>женат / замужем</td>\n",
       "      <td>0</td>\n",
       "      <td>F</td>\n",
       "      <td>пенсионер</td>\n",
       "      <td>0</td>\n",
       "      <td>142594</td>\n",
       "      <td>ремонт жилью</td>\n",
       "    </tr>\n",
       "    <tr>\n",
       "      <td>11791</td>\n",
       "      <td>0</td>\n",
       "      <td>142594</td>\n",
       "      <td>47</td>\n",
       "      <td>среднее</td>\n",
       "      <td>1</td>\n",
       "      <td>женат / замужем</td>\n",
       "      <td>0</td>\n",
       "      <td>F</td>\n",
       "      <td>сотрудник</td>\n",
       "      <td>0</td>\n",
       "      <td>142594</td>\n",
       "      <td>строительство недвижимости</td>\n",
       "    </tr>\n",
       "    <tr>\n",
       "      <td>12373</td>\n",
       "      <td>0</td>\n",
       "      <td>142594</td>\n",
       "      <td>58</td>\n",
       "      <td>среднее</td>\n",
       "      <td>1</td>\n",
       "      <td>женат / замужем</td>\n",
       "      <td>0</td>\n",
       "      <td>M</td>\n",
       "      <td>сотрудник</td>\n",
       "      <td>0</td>\n",
       "      <td>142594</td>\n",
       "      <td>покупка недвижимости</td>\n",
       "    </tr>\n",
       "    <tr>\n",
       "      <td>12375</td>\n",
       "      <td>1</td>\n",
       "      <td>142594</td>\n",
       "      <td>37</td>\n",
       "      <td>среднее</td>\n",
       "      <td>1</td>\n",
       "      <td>женат / замужем</td>\n",
       "      <td>0</td>\n",
       "      <td>F</td>\n",
       "      <td>сотрудник</td>\n",
       "      <td>0</td>\n",
       "      <td>142594</td>\n",
       "      <td>покупка недвижимости</td>\n",
       "    </tr>\n",
       "    <tr>\n",
       "      <td>12736</td>\n",
       "      <td>0</td>\n",
       "      <td>142594</td>\n",
       "      <td>59</td>\n",
       "      <td>среднее</td>\n",
       "      <td>1</td>\n",
       "      <td>женат / замужем</td>\n",
       "      <td>0</td>\n",
       "      <td>F</td>\n",
       "      <td>пенсионер</td>\n",
       "      <td>0</td>\n",
       "      <td>142594</td>\n",
       "      <td>заняться образованием</td>\n",
       "    </tr>\n",
       "    <tr>\n",
       "      <td>13025</td>\n",
       "      <td>1</td>\n",
       "      <td>142594</td>\n",
       "      <td>44</td>\n",
       "      <td>среднее</td>\n",
       "      <td>1</td>\n",
       "      <td>женат / замужем</td>\n",
       "      <td>0</td>\n",
       "      <td>F</td>\n",
       "      <td>сотрудник</td>\n",
       "      <td>0</td>\n",
       "      <td>142594</td>\n",
       "      <td>сделка с подержанным автомобилем</td>\n",
       "    </tr>\n",
       "    <tr>\n",
       "      <td>13639</td>\n",
       "      <td>0</td>\n",
       "      <td>142594</td>\n",
       "      <td>64</td>\n",
       "      <td>среднее</td>\n",
       "      <td>1</td>\n",
       "      <td>женат / замужем</td>\n",
       "      <td>0</td>\n",
       "      <td>F</td>\n",
       "      <td>пенсионер</td>\n",
       "      <td>0</td>\n",
       "      <td>142594</td>\n",
       "      <td>автомобиль</td>\n",
       "    </tr>\n",
       "    <tr>\n",
       "      <td>13773</td>\n",
       "      <td>0</td>\n",
       "      <td>142594</td>\n",
       "      <td>35</td>\n",
       "      <td>среднее</td>\n",
       "      <td>1</td>\n",
       "      <td>гражданский брак</td>\n",
       "      <td>1</td>\n",
       "      <td>F</td>\n",
       "      <td>сотрудник</td>\n",
       "      <td>0</td>\n",
       "      <td>142594</td>\n",
       "      <td>сыграть свадьбу</td>\n",
       "    </tr>\n",
       "    <tr>\n",
       "      <td>13878</td>\n",
       "      <td>1</td>\n",
       "      <td>142594</td>\n",
       "      <td>31</td>\n",
       "      <td>среднее</td>\n",
       "      <td>1</td>\n",
       "      <td>женат / замужем</td>\n",
       "      <td>0</td>\n",
       "      <td>F</td>\n",
       "      <td>компаньон</td>\n",
       "      <td>0</td>\n",
       "      <td>142594</td>\n",
       "      <td>покупка жилья</td>\n",
       "    </tr>\n",
       "    <tr>\n",
       "      <td>13942</td>\n",
       "      <td>0</td>\n",
       "      <td>142594</td>\n",
       "      <td>44</td>\n",
       "      <td>среднее</td>\n",
       "      <td>1</td>\n",
       "      <td>женат / замужем</td>\n",
       "      <td>0</td>\n",
       "      <td>F</td>\n",
       "      <td>сотрудник</td>\n",
       "      <td>0</td>\n",
       "      <td>142594</td>\n",
       "      <td>приобретение автомобиля</td>\n",
       "    </tr>\n",
       "    <tr>\n",
       "      <td>14432</td>\n",
       "      <td>2</td>\n",
       "      <td>142594</td>\n",
       "      <td>36</td>\n",
       "      <td>высшее</td>\n",
       "      <td>0</td>\n",
       "      <td>женат / замужем</td>\n",
       "      <td>0</td>\n",
       "      <td>F</td>\n",
       "      <td>госслужащий</td>\n",
       "      <td>0</td>\n",
       "      <td>142594</td>\n",
       "      <td>получение образования</td>\n",
       "    </tr>\n",
       "    <tr>\n",
       "      <td>14832</td>\n",
       "      <td>0</td>\n",
       "      <td>142594</td>\n",
       "      <td>50</td>\n",
       "      <td>среднее</td>\n",
       "      <td>1</td>\n",
       "      <td>Не женат / не замужем</td>\n",
       "      <td>4</td>\n",
       "      <td>F</td>\n",
       "      <td>сотрудник</td>\n",
       "      <td>0</td>\n",
       "      <td>142594</td>\n",
       "      <td>недвижимость</td>\n",
       "    </tr>\n",
       "    <tr>\n",
       "      <td>15091</td>\n",
       "      <td>0</td>\n",
       "      <td>142594</td>\n",
       "      <td>58</td>\n",
       "      <td>среднее</td>\n",
       "      <td>1</td>\n",
       "      <td>гражданский брак</td>\n",
       "      <td>1</td>\n",
       "      <td>M</td>\n",
       "      <td>сотрудник</td>\n",
       "      <td>0</td>\n",
       "      <td>142594</td>\n",
       "      <td>на проведение свадьбы</td>\n",
       "    </tr>\n",
       "    <tr>\n",
       "      <td>15188</td>\n",
       "      <td>0</td>\n",
       "      <td>142594</td>\n",
       "      <td>60</td>\n",
       "      <td>среднее</td>\n",
       "      <td>1</td>\n",
       "      <td>женат / замужем</td>\n",
       "      <td>0</td>\n",
       "      <td>M</td>\n",
       "      <td>сотрудник</td>\n",
       "      <td>0</td>\n",
       "      <td>142594</td>\n",
       "      <td>покупка недвижимости</td>\n",
       "    </tr>\n",
       "    <tr>\n",
       "      <td>15273</td>\n",
       "      <td>0</td>\n",
       "      <td>142594</td>\n",
       "      <td>57</td>\n",
       "      <td>среднее</td>\n",
       "      <td>1</td>\n",
       "      <td>гражданский брак</td>\n",
       "      <td>1</td>\n",
       "      <td>F</td>\n",
       "      <td>пенсионер</td>\n",
       "      <td>0</td>\n",
       "      <td>142594</td>\n",
       "      <td>свадьба</td>\n",
       "    </tr>\n",
       "    <tr>\n",
       "      <td>16176</td>\n",
       "      <td>0</td>\n",
       "      <td>142594</td>\n",
       "      <td>47</td>\n",
       "      <td>среднее</td>\n",
       "      <td>1</td>\n",
       "      <td>женат / замужем</td>\n",
       "      <td>0</td>\n",
       "      <td>F</td>\n",
       "      <td>сотрудник</td>\n",
       "      <td>0</td>\n",
       "      <td>142594</td>\n",
       "      <td>ремонт жилью</td>\n",
       "    </tr>\n",
       "    <tr>\n",
       "      <td>16378</td>\n",
       "      <td>0</td>\n",
       "      <td>142594</td>\n",
       "      <td>46</td>\n",
       "      <td>среднее</td>\n",
       "      <td>1</td>\n",
       "      <td>женат / замужем</td>\n",
       "      <td>0</td>\n",
       "      <td>F</td>\n",
       "      <td>сотрудник</td>\n",
       "      <td>0</td>\n",
       "      <td>142594</td>\n",
       "      <td>высшее образование</td>\n",
       "    </tr>\n",
       "    <tr>\n",
       "      <td>16902</td>\n",
       "      <td>2</td>\n",
       "      <td>142594</td>\n",
       "      <td>39</td>\n",
       "      <td>среднее</td>\n",
       "      <td>1</td>\n",
       "      <td>гражданский брак</td>\n",
       "      <td>1</td>\n",
       "      <td>F</td>\n",
       "      <td>сотрудник</td>\n",
       "      <td>0</td>\n",
       "      <td>142594</td>\n",
       "      <td>сыграть свадьбу</td>\n",
       "    </tr>\n",
       "    <tr>\n",
       "      <td>16904</td>\n",
       "      <td>1</td>\n",
       "      <td>142594</td>\n",
       "      <td>32</td>\n",
       "      <td>высшее</td>\n",
       "      <td>0</td>\n",
       "      <td>женат / замужем</td>\n",
       "      <td>0</td>\n",
       "      <td>F</td>\n",
       "      <td>сотрудник</td>\n",
       "      <td>0</td>\n",
       "      <td>142594</td>\n",
       "      <td>на покупку подержанного автомобиля</td>\n",
       "    </tr>\n",
       "    <tr>\n",
       "      <td>17379</td>\n",
       "      <td>0</td>\n",
       "      <td>142594</td>\n",
       "      <td>54</td>\n",
       "      <td>высшее</td>\n",
       "      <td>0</td>\n",
       "      <td>женат / замужем</td>\n",
       "      <td>0</td>\n",
       "      <td>M</td>\n",
       "      <td>компаньон</td>\n",
       "      <td>0</td>\n",
       "      <td>142594</td>\n",
       "      <td>операции с коммерческой недвижимостью</td>\n",
       "    </tr>\n",
       "    <tr>\n",
       "      <td>17755</td>\n",
       "      <td>1</td>\n",
       "      <td>142594</td>\n",
       "      <td>43</td>\n",
       "      <td>среднее</td>\n",
       "      <td>1</td>\n",
       "      <td>женат / замужем</td>\n",
       "      <td>0</td>\n",
       "      <td>M</td>\n",
       "      <td>сотрудник</td>\n",
       "      <td>0</td>\n",
       "      <td>142594</td>\n",
       "      <td>заняться образованием</td>\n",
       "    </tr>\n",
       "    <tr>\n",
       "      <td>17774</td>\n",
       "      <td>1</td>\n",
       "      <td>142594</td>\n",
       "      <td>40</td>\n",
       "      <td>среднее</td>\n",
       "      <td>1</td>\n",
       "      <td>гражданский брак</td>\n",
       "      <td>1</td>\n",
       "      <td>F</td>\n",
       "      <td>компаньон</td>\n",
       "      <td>0</td>\n",
       "      <td>142594</td>\n",
       "      <td>строительство жилой недвижимости</td>\n",
       "    </tr>\n",
       "    <tr>\n",
       "      <td>18328</td>\n",
       "      <td>0</td>\n",
       "      <td>142594</td>\n",
       "      <td>29</td>\n",
       "      <td>высшее</td>\n",
       "      <td>0</td>\n",
       "      <td>женат / замужем</td>\n",
       "      <td>0</td>\n",
       "      <td>M</td>\n",
       "      <td>сотрудник</td>\n",
       "      <td>0</td>\n",
       "      <td>142594</td>\n",
       "      <td>покупка жилой недвижимости</td>\n",
       "    </tr>\n",
       "    <tr>\n",
       "      <td>18349</td>\n",
       "      <td>1</td>\n",
       "      <td>142594</td>\n",
       "      <td>30</td>\n",
       "      <td>высшее</td>\n",
       "      <td>0</td>\n",
       "      <td>женат / замужем</td>\n",
       "      <td>0</td>\n",
       "      <td>F</td>\n",
       "      <td>госслужащий</td>\n",
       "      <td>0</td>\n",
       "      <td>142594</td>\n",
       "      <td>покупка жилья для семьи</td>\n",
       "    </tr>\n",
       "    <tr>\n",
       "      <td>18428</td>\n",
       "      <td>0</td>\n",
       "      <td>142594</td>\n",
       "      <td>64</td>\n",
       "      <td>среднее</td>\n",
       "      <td>1</td>\n",
       "      <td>женат / замужем</td>\n",
       "      <td>0</td>\n",
       "      <td>F</td>\n",
       "      <td>пенсионер</td>\n",
       "      <td>0</td>\n",
       "      <td>142594</td>\n",
       "      <td>жилье</td>\n",
       "    </tr>\n",
       "    <tr>\n",
       "      <td>18521</td>\n",
       "      <td>0</td>\n",
       "      <td>142594</td>\n",
       "      <td>56</td>\n",
       "      <td>среднее</td>\n",
       "      <td>1</td>\n",
       "      <td>гражданский брак</td>\n",
       "      <td>1</td>\n",
       "      <td>F</td>\n",
       "      <td>сотрудник</td>\n",
       "      <td>0</td>\n",
       "      <td>142594</td>\n",
       "      <td>сыграть свадьбу</td>\n",
       "    </tr>\n",
       "    <tr>\n",
       "      <td>18563</td>\n",
       "      <td>0</td>\n",
       "      <td>142594</td>\n",
       "      <td>54</td>\n",
       "      <td>среднее</td>\n",
       "      <td>1</td>\n",
       "      <td>женат / замужем</td>\n",
       "      <td>0</td>\n",
       "      <td>F</td>\n",
       "      <td>сотрудник</td>\n",
       "      <td>0</td>\n",
       "      <td>142594</td>\n",
       "      <td>операции со своей недвижимостью</td>\n",
       "    </tr>\n",
       "    <tr>\n",
       "      <td>18755</td>\n",
       "      <td>0</td>\n",
       "      <td>142594</td>\n",
       "      <td>58</td>\n",
       "      <td>среднее</td>\n",
       "      <td>1</td>\n",
       "      <td>женат / замужем</td>\n",
       "      <td>0</td>\n",
       "      <td>F</td>\n",
       "      <td>пенсионер</td>\n",
       "      <td>0</td>\n",
       "      <td>142594</td>\n",
       "      <td>заняться образованием</td>\n",
       "    </tr>\n",
       "    <tr>\n",
       "      <td>19041</td>\n",
       "      <td>0</td>\n",
       "      <td>142594</td>\n",
       "      <td>56</td>\n",
       "      <td>среднее</td>\n",
       "      <td>1</td>\n",
       "      <td>гражданский брак</td>\n",
       "      <td>1</td>\n",
       "      <td>F</td>\n",
       "      <td>сотрудник</td>\n",
       "      <td>0</td>\n",
       "      <td>142594</td>\n",
       "      <td>на проведение свадьбы</td>\n",
       "    </tr>\n",
       "    <tr>\n",
       "      <td>19184</td>\n",
       "      <td>0</td>\n",
       "      <td>142594</td>\n",
       "      <td>46</td>\n",
       "      <td>среднее</td>\n",
       "      <td>1</td>\n",
       "      <td>женат / замужем</td>\n",
       "      <td>0</td>\n",
       "      <td>F</td>\n",
       "      <td>сотрудник</td>\n",
       "      <td>0</td>\n",
       "      <td>142594</td>\n",
       "      <td>свой автомобиль</td>\n",
       "    </tr>\n",
       "    <tr>\n",
       "      <td>19321</td>\n",
       "      <td>0</td>\n",
       "      <td>142594</td>\n",
       "      <td>23</td>\n",
       "      <td>среднее</td>\n",
       "      <td>1</td>\n",
       "      <td>Не женат / не замужем</td>\n",
       "      <td>4</td>\n",
       "      <td>F</td>\n",
       "      <td>сотрудник</td>\n",
       "      <td>0</td>\n",
       "      <td>142594</td>\n",
       "      <td>сделка с подержанным автомобилем</td>\n",
       "    </tr>\n",
       "    <tr>\n",
       "      <td>19387</td>\n",
       "      <td>0</td>\n",
       "      <td>142594</td>\n",
       "      <td>38</td>\n",
       "      <td>высшее</td>\n",
       "      <td>0</td>\n",
       "      <td>гражданский брак</td>\n",
       "      <td>1</td>\n",
       "      <td>F</td>\n",
       "      <td>компаньон</td>\n",
       "      <td>0</td>\n",
       "      <td>142594</td>\n",
       "      <td>на проведение свадьбы</td>\n",
       "    </tr>\n",
       "    <tr>\n",
       "      <td>19688</td>\n",
       "      <td>0</td>\n",
       "      <td>142594</td>\n",
       "      <td>61</td>\n",
       "      <td>среднее</td>\n",
       "      <td>1</td>\n",
       "      <td>женат / замужем</td>\n",
       "      <td>0</td>\n",
       "      <td>F</td>\n",
       "      <td>пенсионер</td>\n",
       "      <td>0</td>\n",
       "      <td>142594</td>\n",
       "      <td>операции с недвижимостью</td>\n",
       "    </tr>\n",
       "    <tr>\n",
       "      <td>19832</td>\n",
       "      <td>0</td>\n",
       "      <td>142594</td>\n",
       "      <td>48</td>\n",
       "      <td>среднее</td>\n",
       "      <td>1</td>\n",
       "      <td>женат / замужем</td>\n",
       "      <td>0</td>\n",
       "      <td>F</td>\n",
       "      <td>сотрудник</td>\n",
       "      <td>0</td>\n",
       "      <td>142594</td>\n",
       "      <td>ремонт жилью</td>\n",
       "    </tr>\n",
       "    <tr>\n",
       "      <td>19946</td>\n",
       "      <td>0</td>\n",
       "      <td>142594</td>\n",
       "      <td>57</td>\n",
       "      <td>среднее</td>\n",
       "      <td>1</td>\n",
       "      <td>женат / замужем</td>\n",
       "      <td>0</td>\n",
       "      <td>F</td>\n",
       "      <td>сотрудник</td>\n",
       "      <td>0</td>\n",
       "      <td>142594</td>\n",
       "      <td>сделка с подержанным автомобилем</td>\n",
       "    </tr>\n",
       "    <tr>\n",
       "      <td>20116</td>\n",
       "      <td>0</td>\n",
       "      <td>142594</td>\n",
       "      <td>57</td>\n",
       "      <td>среднее</td>\n",
       "      <td>1</td>\n",
       "      <td>гражданский брак</td>\n",
       "      <td>1</td>\n",
       "      <td>M</td>\n",
       "      <td>пенсионер</td>\n",
       "      <td>0</td>\n",
       "      <td>142594</td>\n",
       "      <td>свадьба</td>\n",
       "    </tr>\n",
       "    <tr>\n",
       "      <td>20165</td>\n",
       "      <td>0</td>\n",
       "      <td>142594</td>\n",
       "      <td>42</td>\n",
       "      <td>среднее</td>\n",
       "      <td>1</td>\n",
       "      <td>женат / замужем</td>\n",
       "      <td>0</td>\n",
       "      <td>F</td>\n",
       "      <td>сотрудник</td>\n",
       "      <td>0</td>\n",
       "      <td>142594</td>\n",
       "      <td>покупка жилья для семьи</td>\n",
       "    </tr>\n",
       "    <tr>\n",
       "      <td>20702</td>\n",
       "      <td>0</td>\n",
       "      <td>142594</td>\n",
       "      <td>64</td>\n",
       "      <td>среднее</td>\n",
       "      <td>1</td>\n",
       "      <td>женат / замужем</td>\n",
       "      <td>0</td>\n",
       "      <td>F</td>\n",
       "      <td>пенсионер</td>\n",
       "      <td>0</td>\n",
       "      <td>142594</td>\n",
       "      <td>дополнительное образование</td>\n",
       "    </tr>\n",
       "    <tr>\n",
       "      <td>21032</td>\n",
       "      <td>0</td>\n",
       "      <td>142594</td>\n",
       "      <td>60</td>\n",
       "      <td>среднее</td>\n",
       "      <td>1</td>\n",
       "      <td>женат / замужем</td>\n",
       "      <td>0</td>\n",
       "      <td>F</td>\n",
       "      <td>пенсионер</td>\n",
       "      <td>0</td>\n",
       "      <td>142594</td>\n",
       "      <td>заняться образованием</td>\n",
       "    </tr>\n",
       "    <tr>\n",
       "      <td>21132</td>\n",
       "      <td>0</td>\n",
       "      <td>142594</td>\n",
       "      <td>47</td>\n",
       "      <td>среднее</td>\n",
       "      <td>1</td>\n",
       "      <td>женат / замужем</td>\n",
       "      <td>0</td>\n",
       "      <td>F</td>\n",
       "      <td>сотрудник</td>\n",
       "      <td>0</td>\n",
       "      <td>142594</td>\n",
       "      <td>ремонт жилью</td>\n",
       "    </tr>\n",
       "    <tr>\n",
       "      <td>21281</td>\n",
       "      <td>1</td>\n",
       "      <td>142594</td>\n",
       "      <td>30</td>\n",
       "      <td>высшее</td>\n",
       "      <td>0</td>\n",
       "      <td>женат / замужем</td>\n",
       "      <td>0</td>\n",
       "      <td>F</td>\n",
       "      <td>сотрудник</td>\n",
       "      <td>0</td>\n",
       "      <td>142594</td>\n",
       "      <td>покупка коммерческой недвижимости</td>\n",
       "    </tr>\n",
       "    <tr>\n",
       "      <td>21415</td>\n",
       "      <td>0</td>\n",
       "      <td>142594</td>\n",
       "      <td>54</td>\n",
       "      <td>среднее</td>\n",
       "      <td>1</td>\n",
       "      <td>женат / замужем</td>\n",
       "      <td>0</td>\n",
       "      <td>F</td>\n",
       "      <td>пенсионер</td>\n",
       "      <td>0</td>\n",
       "      <td>142594</td>\n",
       "      <td>операции с жильем</td>\n",
       "    </tr>\n",
       "  </tbody>\n",
       "</table>\n",
       "</div>"
      ],
      "text/plain": [
       "       children  days_employed  dob_years education  education_id  \\\n",
       "2849          0         142594         41   среднее             1   \n",
       "4182          1         142594         34    ВЫСШЕЕ             0   \n",
       "4851          0         142594         60   среднее             1   \n",
       "5557          0         142594         58   среднее             1   \n",
       "7808          0         142594         57   среднее             1   \n",
       "8583          0         142594         58    высшее             0   \n",
       "9238          2         142594         34   среднее             1   \n",
       "9528          0         142594         66   среднее             1   \n",
       "9627          0         142594         56   среднее             1   \n",
       "10462         0         142594         62   среднее             1   \n",
       "10697         0         142594         40   среднее             1   \n",
       "10864         0         142594         62   среднее             1   \n",
       "10994         0         142594         62   среднее             1   \n",
       "11791         0         142594         47   среднее             1   \n",
       "12373         0         142594         58   среднее             1   \n",
       "12375         1         142594         37   среднее             1   \n",
       "12736         0         142594         59   среднее             1   \n",
       "13025         1         142594         44   среднее             1   \n",
       "13639         0         142594         64   среднее             1   \n",
       "13773         0         142594         35   среднее             1   \n",
       "13878         1         142594         31   среднее             1   \n",
       "13942         0         142594         44   среднее             1   \n",
       "14432         2         142594         36    высшее             0   \n",
       "14832         0         142594         50   среднее             1   \n",
       "15091         0         142594         58   среднее             1   \n",
       "15188         0         142594         60   среднее             1   \n",
       "15273         0         142594         57   среднее             1   \n",
       "16176         0         142594         47   среднее             1   \n",
       "16378         0         142594         46   среднее             1   \n",
       "16902         2         142594         39   среднее             1   \n",
       "16904         1         142594         32    высшее             0   \n",
       "17379         0         142594         54    высшее             0   \n",
       "17755         1         142594         43   среднее             1   \n",
       "17774         1         142594         40   среднее             1   \n",
       "18328         0         142594         29    высшее             0   \n",
       "18349         1         142594         30    высшее             0   \n",
       "18428         0         142594         64   среднее             1   \n",
       "18521         0         142594         56   среднее             1   \n",
       "18563         0         142594         54   среднее             1   \n",
       "18755         0         142594         58   среднее             1   \n",
       "19041         0         142594         56   среднее             1   \n",
       "19184         0         142594         46   среднее             1   \n",
       "19321         0         142594         23   среднее             1   \n",
       "19387         0         142594         38    высшее             0   \n",
       "19688         0         142594         61   среднее             1   \n",
       "19832         0         142594         48   среднее             1   \n",
       "19946         0         142594         57   среднее             1   \n",
       "20116         0         142594         57   среднее             1   \n",
       "20165         0         142594         42   среднее             1   \n",
       "20702         0         142594         64   среднее             1   \n",
       "21032         0         142594         60   среднее             1   \n",
       "21132         0         142594         47   среднее             1   \n",
       "21281         1         142594         30    высшее             0   \n",
       "21415         0         142594         54   среднее             1   \n",
       "\n",
       "               family_status  family_status_id gender  income_type  debt  \\\n",
       "2849         женат / замужем                 0      F    сотрудник     0   \n",
       "4182        гражданский брак                 1      F    сотрудник     0   \n",
       "4851        гражданский брак                 1      F    пенсионер     0   \n",
       "5557        гражданский брак                 1      F    пенсионер     0   \n",
       "7808        гражданский брак                 1      F    пенсионер     0   \n",
       "8583   Не женат / не замужем                 4      F    пенсионер     0   \n",
       "9238         женат / замужем                 0      F    сотрудник     0   \n",
       "9528          вдовец / вдова                 2      F    пенсионер     0   \n",
       "9627         женат / замужем                 0      F    пенсионер     0   \n",
       "10462        женат / замужем                 0      F    пенсионер     0   \n",
       "10697       гражданский брак                 1      F    компаньон     0   \n",
       "10864        женат / замужем                 0      F    пенсионер     0   \n",
       "10994        женат / замужем                 0      F    пенсионер     0   \n",
       "11791        женат / замужем                 0      F    сотрудник     0   \n",
       "12373        женат / замужем                 0      M    сотрудник     0   \n",
       "12375        женат / замужем                 0      F    сотрудник     0   \n",
       "12736        женат / замужем                 0      F    пенсионер     0   \n",
       "13025        женат / замужем                 0      F    сотрудник     0   \n",
       "13639        женат / замужем                 0      F    пенсионер     0   \n",
       "13773       гражданский брак                 1      F    сотрудник     0   \n",
       "13878        женат / замужем                 0      F    компаньон     0   \n",
       "13942        женат / замужем                 0      F    сотрудник     0   \n",
       "14432        женат / замужем                 0      F  госслужащий     0   \n",
       "14832  Не женат / не замужем                 4      F    сотрудник     0   \n",
       "15091       гражданский брак                 1      M    сотрудник     0   \n",
       "15188        женат / замужем                 0      M    сотрудник     0   \n",
       "15273       гражданский брак                 1      F    пенсионер     0   \n",
       "16176        женат / замужем                 0      F    сотрудник     0   \n",
       "16378        женат / замужем                 0      F    сотрудник     0   \n",
       "16902       гражданский брак                 1      F    сотрудник     0   \n",
       "16904        женат / замужем                 0      F    сотрудник     0   \n",
       "17379        женат / замужем                 0      M    компаньон     0   \n",
       "17755        женат / замужем                 0      M    сотрудник     0   \n",
       "17774       гражданский брак                 1      F    компаньон     0   \n",
       "18328        женат / замужем                 0      M    сотрудник     0   \n",
       "18349        женат / замужем                 0      F  госслужащий     0   \n",
       "18428        женат / замужем                 0      F    пенсионер     0   \n",
       "18521       гражданский брак                 1      F    сотрудник     0   \n",
       "18563        женат / замужем                 0      F    сотрудник     0   \n",
       "18755        женат / замужем                 0      F    пенсионер     0   \n",
       "19041       гражданский брак                 1      F    сотрудник     0   \n",
       "19184        женат / замужем                 0      F    сотрудник     0   \n",
       "19321  Не женат / не замужем                 4      F    сотрудник     0   \n",
       "19387       гражданский брак                 1      F    компаньон     0   \n",
       "19688        женат / замужем                 0      F    пенсионер     0   \n",
       "19832        женат / замужем                 0      F    сотрудник     0   \n",
       "19946        женат / замужем                 0      F    сотрудник     0   \n",
       "20116       гражданский брак                 1      M    пенсионер     0   \n",
       "20165        женат / замужем                 0      F    сотрудник     0   \n",
       "20702        женат / замужем                 0      F    пенсионер     0   \n",
       "21032        женат / замужем                 0      F    пенсионер     0   \n",
       "21132        женат / замужем                 0      F    сотрудник     0   \n",
       "21281        женат / замужем                 0      F    сотрудник     0   \n",
       "21415        женат / замужем                 0      F    пенсионер     0   \n",
       "\n",
       "       total_income                                purpose  \n",
       "2849         142594                покупка жилья для семьи  \n",
       "4182         142594                                свадьба  \n",
       "4851         142594                                свадьба  \n",
       "5557         142594                        сыграть свадьбу  \n",
       "7808         142594                  на проведение свадьбы  \n",
       "8583         142594             дополнительное образование  \n",
       "9238         142594                покупка жилья для сдачи  \n",
       "9528         142594        операции со своей недвижимостью  \n",
       "9627         142594        операции со своей недвижимостью  \n",
       "10462        142594      покупка коммерческой недвижимости  \n",
       "10697        142594                        сыграть свадьбу  \n",
       "10864        142594                           ремонт жилью  \n",
       "10994        142594                           ремонт жилью  \n",
       "11791        142594             строительство недвижимости  \n",
       "12373        142594                   покупка недвижимости  \n",
       "12375        142594                   покупка недвижимости  \n",
       "12736        142594                  заняться образованием  \n",
       "13025        142594       сделка с подержанным автомобилем  \n",
       "13639        142594                             автомобиль  \n",
       "13773        142594                        сыграть свадьбу  \n",
       "13878        142594                          покупка жилья  \n",
       "13942        142594                приобретение автомобиля  \n",
       "14432        142594                  получение образования  \n",
       "14832        142594                           недвижимость  \n",
       "15091        142594                  на проведение свадьбы  \n",
       "15188        142594                   покупка недвижимости  \n",
       "15273        142594                                свадьба  \n",
       "16176        142594                           ремонт жилью  \n",
       "16378        142594                     высшее образование  \n",
       "16902        142594                        сыграть свадьбу  \n",
       "16904        142594     на покупку подержанного автомобиля  \n",
       "17379        142594  операции с коммерческой недвижимостью  \n",
       "17755        142594                  заняться образованием  \n",
       "17774        142594       строительство жилой недвижимости  \n",
       "18328        142594             покупка жилой недвижимости  \n",
       "18349        142594                покупка жилья для семьи  \n",
       "18428        142594                                  жилье  \n",
       "18521        142594                        сыграть свадьбу  \n",
       "18563        142594        операции со своей недвижимостью  \n",
       "18755        142594                  заняться образованием  \n",
       "19041        142594                  на проведение свадьбы  \n",
       "19184        142594                        свой автомобиль  \n",
       "19321        142594       сделка с подержанным автомобилем  \n",
       "19387        142594                  на проведение свадьбы  \n",
       "19688        142594               операции с недвижимостью  \n",
       "19832        142594                           ремонт жилью  \n",
       "19946        142594       сделка с подержанным автомобилем  \n",
       "20116        142594                                свадьба  \n",
       "20165        142594                покупка жилья для семьи  \n",
       "20702        142594             дополнительное образование  \n",
       "21032        142594                  заняться образованием  \n",
       "21132        142594                           ремонт жилью  \n",
       "21281        142594      покупка коммерческой недвижимости  \n",
       "21415        142594                      операции с жильем  "
      ]
     },
     "execution_count": 18,
     "metadata": {},
     "output_type": "execute_result"
    }
   ],
   "source": [
    "data[data.duplicated()]"
   ]
  },
  {
   "cell_type": "markdown",
   "metadata": {},
   "source": [
    "54 строки с одинаковыми значениями в столбцах days_employed и total_income. Похоже на техническую ошибку, стоит сказать об этом источнику данных."
   ]
  },
  {
   "cell_type": "markdown",
   "metadata": {},
   "source": [
    "##### Удаление дубликатов"
   ]
  },
  {
   "cell_type": "markdown",
   "metadata": {},
   "source": [
    "Т.к. дублированных строк много, стоит выкинуть их из таблицы, чтобы они не искажали реальную картину. Для удаления дубликатов используем метод drop_duplicates() с вызовом метода reset_index(). Тогда создаётся новый DataFrame, где старые индексы превращаются в обычный столбец под названием index, а индексы всех строк снова следуют в естественном порядке."
   ]
  },
  {
   "cell_type": "code",
   "execution_count": 19,
   "metadata": {},
   "outputs": [
    {
     "data": {
      "text/plain": [
       "0"
      ]
     },
     "execution_count": 19,
     "metadata": {},
     "output_type": "execute_result"
    }
   ],
   "source": [
    "data = data.drop_duplicates().reset_index(drop = True)\n",
    "data.duplicated().sum()"
   ]
  },
  {
   "cell_type": "markdown",
   "metadata": {},
   "source": [
    "##### Приведение слов к нижнему регистру"
   ]
  },
  {
   "cell_type": "markdown",
   "metadata": {},
   "source": [
    "Значения в столбцах education и family_status отличаются по регистру, из-за чего Python не поймет, что это одни и те же данные. Приведем их к нижнему регистру и проверим на наличие дубликатов и аномалий подсчетом уникальных значений."
   ]
  },
  {
   "cell_type": "code",
   "execution_count": 20,
   "metadata": {},
   "outputs": [
    {
     "data": {
      "text/plain": [
       "среднее                15188\n",
       "высшее                  5251\n",
       "неоконченное высшее      744\n",
       "начальное                282\n",
       "ученая степень             6\n",
       "Name: education, dtype: int64"
      ]
     },
     "execution_count": 20,
     "metadata": {},
     "output_type": "execute_result"
    }
   ],
   "source": [
    "data['education'] = data['education'].str.lower()\n",
    "data['education'].value_counts()"
   ]
  },
  {
   "cell_type": "code",
   "execution_count": 21,
   "metadata": {
    "scrolled": true
   },
   "outputs": [
    {
     "data": {
      "text/plain": [
       "женат / замужем          12344\n",
       "гражданский брак          4163\n",
       "не женат / не замужем     2810\n",
       "в разводе                 1195\n",
       "вдовец / вдова             959\n",
       "Name: family_status, dtype: int64"
      ]
     },
     "execution_count": 21,
     "metadata": {},
     "output_type": "execute_result"
    }
   ],
   "source": [
    "data['family_status'] = data['family_status'].str.lower()\n",
    "data['family_status'].value_counts()"
   ]
  },
  {
   "cell_type": "markdown",
   "metadata": {},
   "source": [
    "### Вывод"
   ]
  },
  {
   "cell_type": "markdown",
   "metadata": {},
   "source": [
    "Помимо вредного влияния дубликатов на результат, их наличие затягивает процесс анализа. Большое количество повторов неоправданно раздувает размер таблицы, а значит, увеличивает время обработки данных."
   ]
  },
  {
   "cell_type": "markdown",
   "metadata": {},
   "source": [
    "### Лемматизация"
   ]
  },
  {
   "cell_type": "markdown",
   "metadata": {},
   "source": [
    "Посмотрим, какие причины встречаются в столбце с целями получения кредита подсчетом уникальных значений."
   ]
  },
  {
   "cell_type": "code",
   "execution_count": 22,
   "metadata": {
    "scrolled": true
   },
   "outputs": [
    {
     "data": {
      "text/plain": [
       "свадьба                                   793\n",
       "на проведение свадьбы                     773\n",
       "сыграть свадьбу                           769\n",
       "операции с недвижимостью                  675\n",
       "покупка коммерческой недвижимости         662\n",
       "покупка жилья для сдачи                   652\n",
       "операции с жильем                         652\n",
       "операции с коммерческой недвижимостью     650\n",
       "жилье                                     646\n",
       "покупка жилья                             646\n",
       "покупка жилья для семьи                   638\n",
       "строительство собственной недвижимости    635\n",
       "недвижимость                              633\n",
       "операции со своей недвижимостью           627\n",
       "строительство жилой недвижимости          625\n",
       "покупка недвижимости                      621\n",
       "покупка своего жилья                      620\n",
       "строительство недвижимости                619\n",
       "ремонт жилью                              607\n",
       "покупка жилой недвижимости                606\n",
       "на покупку своего автомобиля              505\n",
       "заняться высшим образованием              496\n",
       "автомобиль                                494\n",
       "сделка с подержанным автомобилем          486\n",
       "свой автомобиль                           479\n",
       "автомобили                                478\n",
       "на покупку подержанного автомобиля        478\n",
       "на покупку автомобиля                     472\n",
       "приобретение автомобиля                   461\n",
       "дополнительное образование                460\n",
       "сделка с автомобилем                      455\n",
       "высшее образование                        452\n",
       "получение дополнительного образования     447\n",
       "образование                               447\n",
       "получение образования                     442\n",
       "профильное образование                    436\n",
       "получение высшего образования             426\n",
       "заняться образованием                     408\n",
       "Name: purpose, dtype: int64"
      ]
     },
     "execution_count": 22,
     "metadata": {},
     "output_type": "execute_result"
    }
   ],
   "source": [
    "data['purpose'].value_counts()"
   ]
  },
  {
   "cell_type": "markdown",
   "metadata": {},
   "source": [
    "Свадьба, недвижимость, жилье, образование и автомобиль. С использованием таких слов описывают причину взятия кредита. Создадим функцию для столбца purpose, которая будет принимать строку и преобразовывать слова в ней к их леммам и возвращать название категории. "
   ]
  },
  {
   "cell_type": "code",
   "execution_count": 23,
   "metadata": {
    "scrolled": true
   },
   "outputs": [],
   "source": [
    "def purpose_category(row):\n",
    "    lemmas = m.lemmatize(row)\n",
    "    if 'недвижимость' in lemmas:\n",
    "        return 'недвижимость'\n",
    "    if 'жилье' in lemmas:\n",
    "        return 'недвижимость'\n",
    "    if 'автомобиль' in lemmas:\n",
    "        return 'автомобиль'\n",
    "    if 'свадьба' in lemmas:\n",
    "        return 'свадьба'\n",
    "    if 'образование' in lemmas:\n",
    "        return 'образование'"
   ]
  },
  {
   "cell_type": "markdown",
   "metadata": {},
   "source": [
    "### Вывод"
   ]
  },
  {
   "cell_type": "markdown",
   "metadata": {},
   "source": [
    "Лемматизация - удобное средство для обработки категориальных типов данных, т.к. аналитики работают не только с числами, но и со словами."
   ]
  },
  {
   "cell_type": "markdown",
   "metadata": {},
   "source": [
    "### Категоризация данных"
   ]
  },
  {
   "cell_type": "markdown",
   "metadata": {},
   "source": [
    "##### Категория целей кредита"
   ]
  },
  {
   "cell_type": "markdown",
   "metadata": {},
   "source": [
    "Т.к. в столбце с целями получения кредита довольно много причин, описанных разными словами, мы можем категоризировать их по общим словам. Создадим столбец с категориями причин применив метод apply()."
   ]
  },
  {
   "cell_type": "code",
   "execution_count": 24,
   "metadata": {},
   "outputs": [],
   "source": [
    "data['purpose_category'] = data['purpose'].apply(purpose_category)"
   ]
  },
  {
   "cell_type": "markdown",
   "metadata": {},
   "source": [
    "##### Категория количества детей"
   ]
  },
  {
   "cell_type": "markdown",
   "metadata": {},
   "source": [
    "Категоризируем данные количества детей, где значения больше 3х будут считать семью за многодетную."
   ]
  },
  {
   "cell_type": "code",
   "execution_count": 25,
   "metadata": {},
   "outputs": [],
   "source": [
    "def children_category(row):\n",
    "    if row > 3: return '>3'\n",
    "    if row == 2 or row == 3: return '2-3'\n",
    "    if row == 1: return '1'\n",
    "    return '0'\n",
    "\n",
    "data['children_category'] = data['children'].apply(children_category)"
   ]
  },
  {
   "cell_type": "markdown",
   "metadata": {},
   "source": [
    "##### Категория уровня дохода"
   ]
  },
  {
   "cell_type": "markdown",
   "metadata": {},
   "source": [
    "Чтобы ответить на вопрос \"есть ли зависимость между уровнем дохода и возвратом кредита в срок?\", нам нужно создать категорию с уровнями дохода, которые выведем из значений в таблице total_income."
   ]
  },
  {
   "cell_type": "code",
   "execution_count": 35,
   "metadata": {},
   "outputs": [],
   "source": [
    "#def income_category(row):\n",
    "#    if row < 60000:\n",
    "#        return 'низкий'\n",
    "#    if row > 60000 and row < 120000:\n",
    "#        return 'средний'\n",
    "#    if row > 120000:\n",
    "#        return 'высокий'\n",
    "\n",
    "income_quantiles = data['total_income'].quantile([0, 0.25, 0.5, 0.75, 1])\n",
    "\n",
    "def income_category(row):\n",
    "    if row > 20667 and row < 142594:\n",
    "        return 'низкий'\n",
    "    if row > 107654 and row < 195751:\n",
    "        return 'средний'\n",
    "    if row > 142594 and  row < 2265604:\n",
    "        return 'высокий'\n",
    "\n",
    "data['income_category'] = data['total_income'].apply(income_category)    "
   ]
  },
  {
   "cell_type": "markdown",
   "metadata": {},
   "source": [
    "### Вывод"
   ]
  },
  {
   "cell_type": "markdown",
   "metadata": {},
   "source": [
    "Чтобы выделить данные по определенному сегменту,  прибегают к категоризации - объединению избранных данных в произвольные группы по заданному критерию. Аналитики пишут функции на Python, чтобы выделить такие группы."
   ]
  },
  {
   "cell_type": "markdown",
   "metadata": {},
   "source": [
    "### Шаг 3. Ответьте на вопросы"
   ]
  },
  {
   "cell_type": "markdown",
   "metadata": {},
   "source": [
    "##### Есть ли зависимость между наличием детей и возвратом кредита в срок?"
   ]
  },
  {
   "cell_type": "markdown",
   "metadata": {},
   "source": [
    "Для ответа на данный вопрос, создадим сводную таблицу методом pivot_table(), который будет принимать в себя столбец, по которому группируют данные (в этом случае по категории наличия детей), столбец, по значениям которого происходит группировка (есть долг или нет), значения, по которым мы хотим увидеть сводную таблицу (количество детей) и функцию, применяемая к значениям (посчитать количество значений). Далее добавим в эту таблицу соотношение людей вернувших кредит в срок и не вернувших, процент которой покажет, какая группа чаще не возвращает кредит."
   ]
  },
  {
   "cell_type": "code",
   "execution_count": 28,
   "metadata": {},
   "outputs": [
    {
     "data": {
      "text/html": [
       "<div>\n",
       "<style scoped>\n",
       "    .dataframe tbody tr th:only-of-type {\n",
       "        vertical-align: middle;\n",
       "    }\n",
       "\n",
       "    .dataframe tbody tr th {\n",
       "        vertical-align: top;\n",
       "    }\n",
       "\n",
       "    .dataframe thead th {\n",
       "        text-align: right;\n",
       "    }\n",
       "</style>\n",
       "<table border=\"1\" class=\"dataframe\">\n",
       "  <thead>\n",
       "    <tr style=\"text-align: right;\">\n",
       "      <th>debt</th>\n",
       "      <th>0</th>\n",
       "      <th>1</th>\n",
       "      <th>вероятность %</th>\n",
       "    </tr>\n",
       "    <tr>\n",
       "      <th>children_category</th>\n",
       "      <th></th>\n",
       "      <th></th>\n",
       "      <th></th>\n",
       "    </tr>\n",
       "  </thead>\n",
       "  <tbody>\n",
       "    <tr>\n",
       "      <td>2-3</td>\n",
       "      <td>2229</td>\n",
       "      <td>229</td>\n",
       "      <td>0.093165</td>\n",
       "    </tr>\n",
       "    <tr>\n",
       "      <td>1</td>\n",
       "      <td>4411</td>\n",
       "      <td>445</td>\n",
       "      <td>0.091639</td>\n",
       "    </tr>\n",
       "    <tr>\n",
       "      <td>&gt;3</td>\n",
       "      <td>46</td>\n",
       "      <td>4</td>\n",
       "      <td>0.080000</td>\n",
       "    </tr>\n",
       "    <tr>\n",
       "      <td>0</td>\n",
       "      <td>13044</td>\n",
       "      <td>1063</td>\n",
       "      <td>0.075353</td>\n",
       "    </tr>\n",
       "  </tbody>\n",
       "</table>\n",
       "</div>"
      ],
      "text/plain": [
       "debt                   0     1  вероятность %\n",
       "children_category                            \n",
       "2-3                 2229   229       0.093165\n",
       "1                   4411   445       0.091639\n",
       ">3                    46     4       0.080000\n",
       "0                  13044  1063       0.075353"
      ]
     },
     "execution_count": 28,
     "metadata": {},
     "output_type": "execute_result"
    }
   ],
   "source": [
    "data_children_pivot= data.pivot_table(index = ['children_category'], columns = 'debt', values = 'children', aggfunc = 'count')\n",
    "data_children_pivot['вероятность %'] = data_children_pivot[1] / (data_children_pivot[1] +  data_children_pivot[0])\n",
    "data_children_pivot.sort_values(by = 'вероятность %', ascending = False)"
   ]
  },
  {
   "cell_type": "markdown",
   "metadata": {},
   "source": [
    "### Вывод"
   ]
  },
  {
   "cell_type": "markdown",
   "metadata": {},
   "source": [
    "Таблица показывает, что вероятность не вернуть кредит больше у людей с детьми."
   ]
  },
  {
   "cell_type": "markdown",
   "metadata": {},
   "source": [
    "##### Есть ли зависимость между семейным положением и возвратом кредита в срок?"
   ]
  },
  {
   "cell_type": "markdown",
   "metadata": {},
   "source": [
    "Создадим таблицу с соотношением вернувших и невернувших по состоянию семеного пололжения."
   ]
  },
  {
   "cell_type": "code",
   "execution_count": 29,
   "metadata": {},
   "outputs": [
    {
     "data": {
      "text/html": [
       "<div>\n",
       "<style scoped>\n",
       "    .dataframe tbody tr th:only-of-type {\n",
       "        vertical-align: middle;\n",
       "    }\n",
       "\n",
       "    .dataframe tbody tr th {\n",
       "        vertical-align: top;\n",
       "    }\n",
       "\n",
       "    .dataframe thead th {\n",
       "        text-align: right;\n",
       "    }\n",
       "</style>\n",
       "<table border=\"1\" class=\"dataframe\">\n",
       "  <thead>\n",
       "    <tr style=\"text-align: right;\">\n",
       "      <th>debt</th>\n",
       "      <th>0</th>\n",
       "      <th>1</th>\n",
       "      <th>вероятность %</th>\n",
       "    </tr>\n",
       "    <tr>\n",
       "      <th>family_status</th>\n",
       "      <th></th>\n",
       "      <th></th>\n",
       "      <th></th>\n",
       "    </tr>\n",
       "  </thead>\n",
       "  <tbody>\n",
       "    <tr>\n",
       "      <td>не женат / не замужем</td>\n",
       "      <td>2536</td>\n",
       "      <td>274</td>\n",
       "      <td>0.097509</td>\n",
       "    </tr>\n",
       "    <tr>\n",
       "      <td>гражданский брак</td>\n",
       "      <td>3775</td>\n",
       "      <td>388</td>\n",
       "      <td>0.093202</td>\n",
       "    </tr>\n",
       "    <tr>\n",
       "      <td>женат / замужем</td>\n",
       "      <td>11413</td>\n",
       "      <td>931</td>\n",
       "      <td>0.075421</td>\n",
       "    </tr>\n",
       "    <tr>\n",
       "      <td>в разводе</td>\n",
       "      <td>1110</td>\n",
       "      <td>85</td>\n",
       "      <td>0.071130</td>\n",
       "    </tr>\n",
       "    <tr>\n",
       "      <td>вдовец / вдова</td>\n",
       "      <td>896</td>\n",
       "      <td>63</td>\n",
       "      <td>0.065693</td>\n",
       "    </tr>\n",
       "  </tbody>\n",
       "</table>\n",
       "</div>"
      ],
      "text/plain": [
       "debt                       0    1  вероятность %\n",
       "family_status                                   \n",
       "не женат / не замужем   2536  274       0.097509\n",
       "гражданский брак        3775  388       0.093202\n",
       "женат / замужем        11413  931       0.075421\n",
       "в разводе               1110   85       0.071130\n",
       "вдовец / вдова           896   63       0.065693"
      ]
     },
     "execution_count": 29,
     "metadata": {},
     "output_type": "execute_result"
    }
   ],
   "source": [
    "data_family_pivot = data.pivot_table(index = ['family_status'], columns = 'debt', values = 'gender', aggfunc = 'count')\n",
    "data_family_pivot['вероятность %'] = data_family_pivot[1] / (data_family_pivot[1] +  data_family_pivot[0])\n",
    "data_family_pivot.sort_values(by = 'вероятность %', ascending = False)"
   ]
  },
  {
   "cell_type": "markdown",
   "metadata": {},
   "source": [
    "### Вывод"
   ]
  },
  {
   "cell_type": "markdown",
   "metadata": {},
   "source": [
    "Не женатые и люди в гражданском браке имеют большую вероятность не вернуть кредит в срок. "
   ]
  },
  {
   "cell_type": "markdown",
   "metadata": {},
   "source": [
    "##### Есть ли зависимость между уровнем дохода и возвратом кредита в срок?"
   ]
  },
  {
   "cell_type": "markdown",
   "metadata": {},
   "source": [
    "Создадим таблицу с соотношением вернувших и невернувших кредит в срок по уровню дохода."
   ]
  },
  {
   "cell_type": "code",
   "execution_count": 30,
   "metadata": {},
   "outputs": [
    {
     "data": {
      "text/html": [
       "<div>\n",
       "<style scoped>\n",
       "    .dataframe tbody tr th:only-of-type {\n",
       "        vertical-align: middle;\n",
       "    }\n",
       "\n",
       "    .dataframe tbody tr th {\n",
       "        vertical-align: top;\n",
       "    }\n",
       "\n",
       "    .dataframe thead th {\n",
       "        text-align: right;\n",
       "    }\n",
       "</style>\n",
       "<table border=\"1\" class=\"dataframe\">\n",
       "  <thead>\n",
       "    <tr style=\"text-align: right;\">\n",
       "      <th>debt</th>\n",
       "      <th>0</th>\n",
       "      <th>1</th>\n",
       "      <th>вероятность %</th>\n",
       "    </tr>\n",
       "    <tr>\n",
       "      <th>income_category</th>\n",
       "      <th></th>\n",
       "      <th></th>\n",
       "      <th></th>\n",
       "    </tr>\n",
       "  </thead>\n",
       "  <tbody>\n",
       "    <tr>\n",
       "      <td>средний</td>\n",
       "      <td>6134</td>\n",
       "      <td>581</td>\n",
       "      <td>0.086523</td>\n",
       "    </tr>\n",
       "    <tr>\n",
       "      <td>низкий</td>\n",
       "      <td>8610</td>\n",
       "      <td>776</td>\n",
       "      <td>0.082676</td>\n",
       "    </tr>\n",
       "    <tr>\n",
       "      <td>высокий</td>\n",
       "      <td>4985</td>\n",
       "      <td>383</td>\n",
       "      <td>0.071349</td>\n",
       "    </tr>\n",
       "  </tbody>\n",
       "</table>\n",
       "</div>"
      ],
      "text/plain": [
       "debt                0    1  вероятность %\n",
       "income_category                          \n",
       "средний          6134  581       0.086523\n",
       "низкий           8610  776       0.082676\n",
       "высокий          4985  383       0.071349"
      ]
     },
     "execution_count": 30,
     "metadata": {},
     "output_type": "execute_result"
    }
   ],
   "source": [
    "data_income_pivot = data.pivot_table(index = ['income_category'], columns = 'debt', values = 'total_income', aggfunc = 'count')\n",
    "data_income_pivot['вероятность %'] = data_income_pivot[1] / (data_income_pivot[1] +  data_income_pivot[0])\n",
    "data_income_pivot.sort_values(by = 'вероятность %', ascending = False)\n"
   ]
  },
  {
   "cell_type": "markdown",
   "metadata": {},
   "source": [
    "### Вывод"
   ]
  },
  {
   "cell_type": "markdown",
   "metadata": {},
   "source": [
    "Люди со средним и низким доходом чаще не возвращают кредит в срок."
   ]
  },
  {
   "cell_type": "markdown",
   "metadata": {},
   "source": [
    "##### Как разные цели кредита влияют на его возврат в срок?"
   ]
  },
  {
   "cell_type": "markdown",
   "metadata": {},
   "source": [
    "Создадим таблицу с соотношением вернувших и невернувших кредит в срок по целям кредита."
   ]
  },
  {
   "cell_type": "code",
   "execution_count": 31,
   "metadata": {},
   "outputs": [
    {
     "data": {
      "text/html": [
       "<div>\n",
       "<style scoped>\n",
       "    .dataframe tbody tr th:only-of-type {\n",
       "        vertical-align: middle;\n",
       "    }\n",
       "\n",
       "    .dataframe tbody tr th {\n",
       "        vertical-align: top;\n",
       "    }\n",
       "\n",
       "    .dataframe thead th {\n",
       "        text-align: right;\n",
       "    }\n",
       "</style>\n",
       "<table border=\"1\" class=\"dataframe\">\n",
       "  <thead>\n",
       "    <tr style=\"text-align: right;\">\n",
       "      <th>debt</th>\n",
       "      <th>0</th>\n",
       "      <th>1</th>\n",
       "      <th>вероятность %</th>\n",
       "    </tr>\n",
       "    <tr>\n",
       "      <th>purpose_category</th>\n",
       "      <th></th>\n",
       "      <th></th>\n",
       "      <th></th>\n",
       "    </tr>\n",
       "  </thead>\n",
       "  <tbody>\n",
       "    <tr>\n",
       "      <td>автомобиль</td>\n",
       "      <td>3905</td>\n",
       "      <td>403</td>\n",
       "      <td>0.093547</td>\n",
       "    </tr>\n",
       "    <tr>\n",
       "      <td>образование</td>\n",
       "      <td>3644</td>\n",
       "      <td>370</td>\n",
       "      <td>0.092177</td>\n",
       "    </tr>\n",
       "    <tr>\n",
       "      <td>свадьба</td>\n",
       "      <td>2149</td>\n",
       "      <td>186</td>\n",
       "      <td>0.079657</td>\n",
       "    </tr>\n",
       "    <tr>\n",
       "      <td>недвижимость</td>\n",
       "      <td>10032</td>\n",
       "      <td>782</td>\n",
       "      <td>0.072314</td>\n",
       "    </tr>\n",
       "  </tbody>\n",
       "</table>\n",
       "</div>"
      ],
      "text/plain": [
       "debt                  0    1  вероятность %\n",
       "purpose_category                           \n",
       "автомобиль         3905  403       0.093547\n",
       "образование        3644  370       0.092177\n",
       "свадьба            2149  186       0.079657\n",
       "недвижимость      10032  782       0.072314"
      ]
     },
     "execution_count": 31,
     "metadata": {},
     "output_type": "execute_result"
    }
   ],
   "source": [
    "data_purpose_pivot = data.pivot_table(index = ['purpose_category'], columns = 'debt', values = 'gender', aggfunc = 'count')\n",
    "data_purpose_pivot['вероятность %'] = data_purpose_pivot[1] / (data_purpose_pivot[1] +  data_purpose_pivot[0])\n",
    "data_purpose_pivot.sort_values(by = 'вероятность %', ascending = False)"
   ]
  },
  {
   "cell_type": "markdown",
   "metadata": {},
   "source": [
    "### Вывод"
   ]
  },
  {
   "cell_type": "markdown",
   "metadata": {},
   "source": [
    "Люди берущие кредит на автомобиль и образование чаще не возвращают кредит в срок."
   ]
  },
  {
   "cell_type": "markdown",
   "metadata": {},
   "source": [
    "### Шаг 4. Общий вывод"
   ]
  },
  {
   "cell_type": "markdown",
   "metadata": {},
   "source": [
    "Человек с детьми, не замужем либо в гражданском браке, с низким или средним уровнем дохода, берущий кредит для операций с автомобилем или на образование - скорее всего будет иметь проблемы с возвратом этого кредита. Такое представление складывается из анализа преобработанной таблицы путем категоризации данных по заданным критериям."
   ]
  }
 ],
 "metadata": {
  "kernelspec": {
   "display_name": "Python 3",
   "language": "python",
   "name": "python3"
  },
  "language_info": {
   "codemirror_mode": {
    "name": "ipython",
    "version": 3
   },
   "file_extension": ".py",
   "mimetype": "text/x-python",
   "name": "python",
   "nbconvert_exporter": "python",
   "pygments_lexer": "ipython3",
   "version": "3.8.3"
  }
 },
 "nbformat": 4,
 "nbformat_minor": 2
}
