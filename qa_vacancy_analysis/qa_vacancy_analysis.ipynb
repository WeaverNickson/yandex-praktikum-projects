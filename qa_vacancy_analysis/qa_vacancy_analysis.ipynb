{
 "cells": [
  {
   "cell_type": "markdown",
   "metadata": {},
   "source": [
    "# <center>Анализ вакансий ручных тестировщиков для QA–факультета</center>"
   ]
  },
  {
   "cell_type": "markdown",
   "metadata": {},
   "source": [
    "## Цель:\n",
    "Выбрать и проанализировать вакансии, на которые студенты QA факультета могут откликнуться и получить приглашение на интервью. Оценить объем рынка вакансий для начинающих тестировщиков."
   ]
  },
  {
   "cell_type": "markdown",
   "metadata": {},
   "source": [
    "#### Содержание:\n",
    "1. [Обзор данных](#info)\n",
    "2. [Предобработка данных](#pretreatment)\n",
    "3. [Исследовательский анализ](#research_analysis)\n",
    "4. [Вопросы от заказчика](#questions)\n",
    "5. [Выводы и рекомендации](#summary)"
   ]
  },
  {
   "cell_type": "markdown",
   "metadata": {},
   "source": [
    "### Импорты:"
   ]
  },
  {
   "cell_type": "code",
   "execution_count": 1,
   "metadata": {},
   "outputs": [],
   "source": [
    "import pandas as pd\n",
    "import numpy as np \n",
    "import matplotlib.pyplot as plt\n",
    "import seaborn as sns\n",
    "import re\n",
    "from collections import Counter"
   ]
  },
  {
   "cell_type": "code",
   "execution_count": 2,
   "metadata": {
    "scrolled": true
   },
   "outputs": [
    {
     "name": "stderr",
     "output_type": "stream",
     "text": [
      "[nltk_data] Downloading package punkt to\n",
      "[nltk_data]     C:\\Users\\nikit\\AppData\\Roaming\\nltk_data...\n",
      "[nltk_data]   Package punkt is already up-to-date!\n"
     ]
    }
   ],
   "source": [
    "import nltk\n",
    "from nltk.corpus import stopwords\n",
    "nltk.download('punkt')\n",
    "from nltk.stem import SnowballStemmer\n",
    "russian_stemmer = SnowballStemmer('russian')"
   ]
  },
  {
   "cell_type": "code",
   "execution_count": 3,
   "metadata": {},
   "outputs": [],
   "source": [
    "from pymystem3 import Mystem\n",
    "m = Mystem()"
   ]
  },
  {
   "cell_type": "code",
   "execution_count": 4,
   "metadata": {},
   "outputs": [],
   "source": [
    "import sys\n",
    "import locale\n",
    "\n",
    "def set_rus_locale():\n",
    "    locale.setlocale(\n",
    "        locale.LC_ALL,\n",
    "        'rus_rus' if sys.platform == 'win32' else 'ru_RU.UTF-8')\n",
    "    \n",
    "set_rus_locale()"
   ]
  },
  {
   "cell_type": "markdown",
   "metadata": {},
   "source": [
    "## Обзор данных:<a id=\"info\"></a>"
   ]
  },
  {
   "cell_type": "markdown",
   "metadata": {},
   "source": [
    "Была предоставлена таблица с выгрузкой всех вакансий в области информационных технологий, интернета, телеком за 2017, 2018 и 2019 года. Т.к. нас интересуют только вакансии тестировщиков, был сделан срез по ключевым словам и сохранен в файл."
   ]
  },
  {
   "cell_type": "code",
   "execution_count": 5,
   "metadata": {},
   "outputs": [],
   "source": [
    "# hh = pd.read_csv(r'D:\\Code\\Notebooks\\Яндекс.Практикум\\HeadHunter\\jobs_yandex_prakt.csv', sep='|')\n",
    "\n",
    "# hh['vacancy_name'] = hh['vacancy_name'].str.lower()\n",
    "# targets = ['qa', 'qc', 'quality assurance', 'test', 'тестир']\n",
    "\n",
    "# hh_qa = hh[hh['vacancy_name'].apply(lambda sentence: any(word in sentence for word in targets))].reset_index()\n",
    "\n",
    "# hh_qa.to_csv('hh_qa.csv')"
   ]
  },
  {
   "cell_type": "markdown",
   "metadata": {},
   "source": [
    "**12 столбцов, 680561 строк в исходном датафрейме**"
   ]
  },
  {
   "cell_type": "markdown",
   "metadata": {},
   "source": [
    "___"
   ]
  },
  {
   "cell_type": "markdown",
   "metadata": {},
   "source": [
    "### Загрузка данных:"
   ]
  },
  {
   "cell_type": "code",
   "execution_count": 6,
   "metadata": {},
   "outputs": [],
   "source": [
    "hh_qa = pd.read_csv('hh_qa.csv')"
   ]
  },
  {
   "cell_type": "code",
   "execution_count": 7,
   "metadata": {
    "scrolled": false
   },
   "outputs": [
    {
     "data": {
      "text/html": [
       "<div>\n",
       "<style scoped>\n",
       "    .dataframe tbody tr th:only-of-type {\n",
       "        vertical-align: middle;\n",
       "    }\n",
       "\n",
       "    .dataframe tbody tr th {\n",
       "        vertical-align: top;\n",
       "    }\n",
       "\n",
       "    .dataframe thead th {\n",
       "        text-align: right;\n",
       "    }\n",
       "</style>\n",
       "<table border=\"1\" class=\"dataframe\">\n",
       "  <thead>\n",
       "    <tr style=\"text-align: right;\">\n",
       "      <th></th>\n",
       "      <th>Unnamed: 0</th>\n",
       "      <th>index</th>\n",
       "      <th>Unnamed: 0.1</th>\n",
       "      <th>vacancy_id</th>\n",
       "      <th>vacancy_name</th>\n",
       "      <th>vacancy_description</th>\n",
       "      <th>experience_required</th>\n",
       "      <th>type_of_employment</th>\n",
       "      <th>work_schedule</th>\n",
       "      <th>publication_day</th>\n",
       "      <th>city_name</th>\n",
       "      <th>region_name</th>\n",
       "      <th>country_name</th>\n",
       "      <th>list_of_profarea_ids</th>\n",
       "      <th>list_of_skill_names</th>\n",
       "    </tr>\n",
       "  </thead>\n",
       "  <tbody>\n",
       "    <tr>\n",
       "      <th>0</th>\n",
       "      <td>0</td>\n",
       "      <td>14</td>\n",
       "      <td>287960</td>\n",
       "      <td>23920048</td>\n",
       "      <td>тестировщик по</td>\n",
       "      <td>&lt;p&gt;&lt;strong&gt;Обязанности:&lt;/strong&gt;&lt;/p&gt; &lt;p&gt;- Тест...</td>\n",
       "      <td>no_experience</td>\n",
       "      <td>full</td>\n",
       "      <td>full_day</td>\n",
       "      <td>2017-12-25 00:00:00.000</td>\n",
       "      <td>Москва</td>\n",
       "      <td>Москва</td>\n",
       "      <td>Россия</td>\n",
       "      <td>1</td>\n",
       "      <td>[None]</td>\n",
       "    </tr>\n",
       "    <tr>\n",
       "      <th>1</th>\n",
       "      <td>1</td>\n",
       "      <td>15</td>\n",
       "      <td>2826</td>\n",
       "      <td>22786768</td>\n",
       "      <td>qa lead / automation lead</td>\n",
       "      <td>&lt;p&gt;&lt;strong&gt;Magenta&lt;/strong&gt; &lt;strong&gt;Technology...</td>\n",
       "      <td>up_to_6_years</td>\n",
       "      <td>full</td>\n",
       "      <td>full_day</td>\n",
       "      <td>2017-09-19 00:00:00.000</td>\n",
       "      <td>Самара</td>\n",
       "      <td>Самарская область</td>\n",
       "      <td>Россия</td>\n",
       "      <td>1</td>\n",
       "      <td>['QA', 'XML', 'автоматизированное тестирование...</td>\n",
       "    </tr>\n",
       "    <tr>\n",
       "      <th>2</th>\n",
       "      <td>2</td>\n",
       "      <td>36</td>\n",
       "      <td>762452</td>\n",
       "      <td>19385470</td>\n",
       "      <td>аналитик-тестировщик</td>\n",
       "      <td>&lt;p&gt;&lt;strong&gt;Крупный системный интегратор пригла...</td>\n",
       "      <td>up_to_3_years</td>\n",
       "      <td>full</td>\n",
       "      <td>full_day</td>\n",
       "      <td>2017-01-23 00:00:00.000</td>\n",
       "      <td>Москва</td>\n",
       "      <td>Москва</td>\n",
       "      <td>Россия</td>\n",
       "      <td>1</td>\n",
       "      <td>[None]</td>\n",
       "    </tr>\n",
       "    <tr>\n",
       "      <th>3</th>\n",
       "      <td>3</td>\n",
       "      <td>39</td>\n",
       "      <td>1201893</td>\n",
       "      <td>20553589</td>\n",
       "      <td>qa automation engineer</td>\n",
       "      <td>&lt;p&gt;CodeSWAT is looking for QA Automation Engin...</td>\n",
       "      <td>up_to_3_years</td>\n",
       "      <td>full</td>\n",
       "      <td>full_day</td>\n",
       "      <td>2017-05-16 00:00:00.000</td>\n",
       "      <td>Минск</td>\n",
       "      <td>NaN</td>\n",
       "      <td>Беларусь</td>\n",
       "      <td>1</td>\n",
       "      <td>[None]</td>\n",
       "    </tr>\n",
       "    <tr>\n",
       "      <th>4</th>\n",
       "      <td>4</td>\n",
       "      <td>42</td>\n",
       "      <td>424763</td>\n",
       "      <td>22549584</td>\n",
       "      <td>инженер по тестированию (qc/qa)</td>\n",
       "      <td>&lt;p&gt;НТЦ АРГУС— российский разработчик систем кл...</td>\n",
       "      <td>up_to_6_years</td>\n",
       "      <td>full</td>\n",
       "      <td>flexible</td>\n",
       "      <td>2017-09-25 00:00:00.000</td>\n",
       "      <td>Санкт-Петербург</td>\n",
       "      <td>Санкт-Петербург</td>\n",
       "      <td>Россия</td>\n",
       "      <td>1</td>\n",
       "      <td>['Тестирование пользовательского интерфейса', ...</td>\n",
       "    </tr>\n",
       "  </tbody>\n",
       "</table>\n",
       "</div>"
      ],
      "text/plain": [
       "   Unnamed: 0  index  Unnamed: 0.1  vacancy_id  \\\n",
       "0           0     14        287960    23920048   \n",
       "1           1     15          2826    22786768   \n",
       "2           2     36        762452    19385470   \n",
       "3           3     39       1201893    20553589   \n",
       "4           4     42        424763    22549584   \n",
       "\n",
       "                      vacancy_name  \\\n",
       "0                   тестировщик по   \n",
       "1        qa lead / automation lead   \n",
       "2             аналитик-тестировщик   \n",
       "3           qa automation engineer   \n",
       "4  инженер по тестированию (qc/qa)   \n",
       "\n",
       "                                 vacancy_description experience_required  \\\n",
       "0  <p><strong>Обязанности:</strong></p> <p>- Тест...       no_experience   \n",
       "1  <p><strong>Magenta</strong> <strong>Technology...       up_to_6_years   \n",
       "2  <p><strong>Крупный системный интегратор пригла...       up_to_3_years   \n",
       "3  <p>CodeSWAT is looking for QA Automation Engin...       up_to_3_years   \n",
       "4  <p>НТЦ АРГУС— российский разработчик систем кл...       up_to_6_years   \n",
       "\n",
       "  type_of_employment work_schedule          publication_day        city_name  \\\n",
       "0               full      full_day  2017-12-25 00:00:00.000           Москва   \n",
       "1               full      full_day  2017-09-19 00:00:00.000           Самара   \n",
       "2               full      full_day  2017-01-23 00:00:00.000           Москва   \n",
       "3               full      full_day  2017-05-16 00:00:00.000            Минск   \n",
       "4               full      flexible  2017-09-25 00:00:00.000  Санкт-Петербург   \n",
       "\n",
       "         region_name country_name list_of_profarea_ids  \\\n",
       "0             Москва       Россия                    1   \n",
       "1  Самарская область       Россия                    1   \n",
       "2             Москва       Россия                    1   \n",
       "3                NaN     Беларусь                    1   \n",
       "4    Санкт-Петербург       Россия                    1   \n",
       "\n",
       "                                 list_of_skill_names  \n",
       "0                                             [None]  \n",
       "1  ['QA', 'XML', 'автоматизированное тестирование...  \n",
       "2                                             [None]  \n",
       "3                                             [None]  \n",
       "4  ['Тестирование пользовательского интерфейса', ...  "
      ]
     },
     "metadata": {},
     "output_type": "display_data"
    },
    {
     "name": "stdout",
     "output_type": "stream",
     "text": [
      "<class 'pandas.core.frame.DataFrame'>\n",
      "RangeIndex: 22390 entries, 0 to 22389\n",
      "Data columns (total 15 columns):\n",
      " #   Column                Non-Null Count  Dtype \n",
      "---  ------                --------------  ----- \n",
      " 0   Unnamed: 0            22390 non-null  int64 \n",
      " 1   index                 22390 non-null  int64 \n",
      " 2   Unnamed: 0.1          22390 non-null  int64 \n",
      " 3   vacancy_id            22390 non-null  int64 \n",
      " 4   vacancy_name          22390 non-null  object\n",
      " 5   vacancy_description   22390 non-null  object\n",
      " 6   experience_required   22390 non-null  object\n",
      " 7   type_of_employment    22390 non-null  object\n",
      " 8   work_schedule         22390 non-null  object\n",
      " 9   publication_day       22390 non-null  object\n",
      " 10  city_name             22390 non-null  object\n",
      " 11  region_name           19805 non-null  object\n",
      " 12  country_name          22390 non-null  object\n",
      " 13  list_of_profarea_ids  22390 non-null  object\n",
      " 14  list_of_skill_names   22390 non-null  object\n",
      "dtypes: int64(4), object(11)\n",
      "memory usage: 2.6+ MB\n"
     ]
    },
    {
     "data": {
      "text/plain": [
       "None"
      ]
     },
     "metadata": {},
     "output_type": "display_data"
    }
   ],
   "source": [
    "display(hh_qa.head(5))\n",
    "display(hh_qa.info())"
   ]
  },
  {
   "cell_type": "markdown",
   "metadata": {},
   "source": [
    "- vacancy_id - идентификатор вакансии\n",
    "- vacancy_name - название вакансии\n",
    "- vacancy_description - описание вакансии\n",
    "- experience_required - требуемый опыт\n",
    "- type_of_employment - тип занятости\n",
    "- work_schedule - тип рабочего графика\n",
    "- publication_day - дата публикации\n",
    "- city_name - назавние города\n",
    "- region_name - название региона\n",
    "- country_name - название страны\n",
    "- list_of_profarea_ids - список профобластей и специализаций\n",
    "- list_of_skill_names - список требуемых навыков"
   ]
  },
  {
   "cell_type": "markdown",
   "metadata": {},
   "source": [
    "#### Вывод:\n",
    "- Пропуски в названии региона характерны для Беларуси и Казахстана, где их указание необязательно \n",
    "\n",
    "\n",
    "- Удалить первые 3 столбца, это ошибка при выгрузке данных\n",
    "- Привести дату к нужному формату\n",
    "- Убрать HTML теги из описания вакансий"
   ]
  },
  {
   "cell_type": "markdown",
   "metadata": {},
   "source": [
    "## Предобработка данных<a id=\"pretreatment\"></a>"
   ]
  },
  {
   "cell_type": "markdown",
   "metadata": {},
   "source": [
    "Удалим столбцы-ошибки:"
   ]
  },
  {
   "cell_type": "code",
   "execution_count": 8,
   "metadata": {},
   "outputs": [],
   "source": [
    "hh_qa = hh_qa.drop(columns=(['Unnamed: 0', 'Unnamed: 0.1', 'index']))"
   ]
  },
  {
   "cell_type": "markdown",
   "metadata": {},
   "source": [
    "Приведем дату к формату datetime и выделим из нее номер месяца, название месяца и год:"
   ]
  },
  {
   "cell_type": "code",
   "execution_count": 9,
   "metadata": {},
   "outputs": [],
   "source": [
    "hh_qa['publication_day'] = pd.to_datetime(hh_qa['publication_day'], format='%Y-%m-%d %H:%M:%S.%f')\n",
    "hh_qa['publication_year'] = hh_qa['publication_day'].dt.year\n",
    "hh_qa['publication_month'] = hh_qa['publication_day'].dt.month\n",
    "hh_qa['publication_month_name'] = hh_qa['publication_day'].dt.month_name(locale = 'Russian')"
   ]
  },
  {
   "cell_type": "markdown",
   "metadata": {},
   "source": [
    "При парсинге данных в описании вакансий остались HTML теги, очистим с применением регульрных выражений:"
   ]
  },
  {
   "cell_type": "code",
   "execution_count": 10,
   "metadata": {},
   "outputs": [],
   "source": [
    "hh_qa['vacancy_description'] = hh_qa['vacancy_description'].apply(lambda x: re.sub(r'\\<[^>]*\\>', '', x)).str.lower()"
   ]
  },
  {
   "cell_type": "markdown",
   "metadata": {},
   "source": [
    "___"
   ]
  },
  {
   "cell_type": "markdown",
   "metadata": {},
   "source": [
    "## Исследовательский анализ данных<a id=\"research_analysis\"></a>"
   ]
  },
  {
   "cell_type": "markdown",
   "metadata": {},
   "source": [
    "### Период данных:"
   ]
  },
  {
   "cell_type": "code",
   "execution_count": 11,
   "metadata": {
    "scrolled": false
   },
   "outputs": [
    {
     "name": "stdout",
     "output_type": "stream",
     "text": [
      "Минимальная дата: 2017-01-01 00:00:00\n",
      "Максимальная дата: 2019-12-31 00:00:00\n"
     ]
    }
   ],
   "source": [
    "print('Минимальная дата:', hh_qa['publication_day'].min())\n",
    "print('Максимальная дата:', hh_qa['publication_day'].max())"
   ]
  },
  {
   "cell_type": "markdown",
   "metadata": {},
   "source": [
    "### Распределение вакансий по странам:"
   ]
  },
  {
   "cell_type": "code",
   "execution_count": 12,
   "metadata": {},
   "outputs": [
    {
     "data": {
      "text/plain": [
       "Россия       19805\n",
       "Беларусь      2234\n",
       "Казахстан      351\n",
       "Name: country_name, dtype: int64"
      ]
     },
     "execution_count": 12,
     "metadata": {},
     "output_type": "execute_result"
    }
   ],
   "source": [
    "hh_qa['country_name'].value_counts()"
   ]
  },
  {
   "cell_type": "code",
   "execution_count": 13,
   "metadata": {
    "scrolled": false
   },
   "outputs": [
    {
     "data": {
      "image/png": "[encoded data removed]",
      "text/plain": [
       "<Figure size 720x360 with 1 Axes>"
      ]
     },
     "metadata": {},
     "output_type": "display_data"
    }
   ],
   "source": [
    "plt.style.use('ggplot')\n",
    "country_hist = hh_qa['country_name'].hist(figsize=(10,5))\n",
    "country_hist.set_title('Распределение вакансий по странам')\n",
    "country_hist.set_xlabel('Страны')\n",
    "country_hist.set_ylabel('Кол-во вакансий');"
   ]
  },
  {
   "cell_type": "markdown",
   "metadata": {},
   "source": [
    "#### Вывод:\n",
    "Основной массив данных приходится на Россию, в выборке также присутсвуют вакансии из Беларуси и Казахстана."
   ]
  },
  {
   "cell_type": "markdown",
   "metadata": {},
   "source": [
    "### Распределение вакансий по опыту:"
   ]
  },
  {
   "cell_type": "code",
   "execution_count": 14,
   "metadata": {},
   "outputs": [
    {
     "data": {
      "text/html": [
       "<div>\n",
       "<style scoped>\n",
       "    .dataframe tbody tr th:only-of-type {\n",
       "        vertical-align: middle;\n",
       "    }\n",
       "\n",
       "    .dataframe tbody tr th {\n",
       "        vertical-align: top;\n",
       "    }\n",
       "\n",
       "    .dataframe thead th {\n",
       "        text-align: right;\n",
       "    }\n",
       "</style>\n",
       "<table border=\"1\" class=\"dataframe\">\n",
       "  <thead>\n",
       "    <tr style=\"text-align: right;\">\n",
       "      <th></th>\n",
       "      <th>index</th>\n",
       "      <th>experience_required</th>\n",
       "    </tr>\n",
       "  </thead>\n",
       "  <tbody>\n",
       "    <tr>\n",
       "      <th>0</th>\n",
       "      <td>up_to_3_years</td>\n",
       "      <td>14340</td>\n",
       "    </tr>\n",
       "    <tr>\n",
       "      <th>1</th>\n",
       "      <td>up_to_6_years</td>\n",
       "      <td>4904</td>\n",
       "    </tr>\n",
       "    <tr>\n",
       "      <th>2</th>\n",
       "      <td>no_experience</td>\n",
       "      <td>2855</td>\n",
       "    </tr>\n",
       "    <tr>\n",
       "      <th>3</th>\n",
       "      <td>above_6_years</td>\n",
       "      <td>291</td>\n",
       "    </tr>\n",
       "  </tbody>\n",
       "</table>\n",
       "</div>"
      ],
      "text/plain": [
       "           index  experience_required\n",
       "0  up_to_3_years                14340\n",
       "1  up_to_6_years                 4904\n",
       "2  no_experience                 2855\n",
       "3  above_6_years                  291"
      ]
     },
     "execution_count": 14,
     "metadata": {},
     "output_type": "execute_result"
    }
   ],
   "source": [
    "hh_qa['experience_required'].value_counts().reset_index()"
   ]
  },
  {
   "cell_type": "code",
   "execution_count": 15,
   "metadata": {
    "scrolled": false
   },
   "outputs": [
    {
     "data": {
      "image/png": "[encoded data removed]",
      "text/plain": [
       "<Figure size 720x360 with 1 Axes>"
      ]
     },
     "metadata": {},
     "output_type": "display_data"
    }
   ],
   "source": [
    "exp_hist = hh_qa['experience_required'].hist(figsize=(10,5))\n",
    "exp_hist.set_xticklabels(('Без опыта', 'До 6-ти лет', 'До 3-х лет', 'От 6-ти лет'))\n",
    "exp_hist.set_title('Распределение вакансий по опыту')\n",
    "exp_hist.set_xlabel('Требуемый опыт')\n",
    "exp_hist.set_ylabel('Кол-во вакансий');"
   ]
  },
  {
   "cell_type": "markdown",
   "metadata": {},
   "source": [
    "#### Вывод:\n",
    "Из 22т. вакансий, 14т. предполагают опыт кандидата до 3х лет и только около 2500 не требуют опыта."
   ]
  },
  {
   "cell_type": "markdown",
   "metadata": {},
   "source": [
    "### Распределение вакансий по типу занятости:"
   ]
  },
  {
   "cell_type": "code",
   "execution_count": 16,
   "metadata": {
    "scrolled": true
   },
   "outputs": [
    {
     "data": {
      "image/png": "[encoded data removed]",
      "text/plain": [
       "<Figure size 720x360 with 1 Axes>"
      ]
     },
     "metadata": {},
     "output_type": "display_data"
    }
   ],
   "source": [
    "schedule_hist = hh_qa['work_schedule'].hist(figsize=(10,5))\n",
    "schedule_hist.set_xticklabels(('Полный день', 'Гибкий график', 'Удаленная работа', 'Сменная работа', 'Вахтовый метод'))\n",
    "schedule_hist.set_title('Распределение вакансий по типу занятости')\n",
    "schedule_hist.set_xlabel('Тип занятости')\n",
    "schedule_hist.set_ylabel('Кол-во вакансий');"
   ]
  },
  {
   "cell_type": "markdown",
   "metadata": {},
   "source": [
    "#### Вывод:\n",
    "Большинство вакансий предлагают полный рабочий день. Вакансий с гибким графиком и удаленной работой совсем немного, тогда как со сменным графиком и выхтовым методом практически нет (скорее всего это аномалии в данных)."
   ]
  },
  {
   "cell_type": "markdown",
   "metadata": {},
   "source": [
    "### Наиболее частые навыки для вакансий без опыта"
   ]
  },
  {
   "cell_type": "code",
   "execution_count": 17,
   "metadata": {},
   "outputs": [],
   "source": [
    "skills = hh_qa.query('experience_required == \"no_experience\"')['list_of_skill_names'].str.cat(sep=', ')\n",
    "skills_list = re.findall(r\"\\'(.+?)\\'\", skills)\n",
    "skill_dict = Counter(skills_list)\n",
    "most_common_skills = pd.DataFrame.from_dict(skill_dict, orient='index').reset_index()\n",
    "most_common_skills.columns = ['skill_name', 'count']\n",
    "top_20_skills = most_common_skills.drop(index=([0, 10, 57])).sort_values(by='count', ascending=False).head(20)"
   ]
  },
  {
   "cell_type": "code",
   "execution_count": 18,
   "metadata": {
    "scrolled": false
   },
   "outputs": [
    {
     "data": {
      "image/png": "[encoded data removed]",
      "text/plain": [
       "<Figure size 1008x576 with 1 Axes>"
      ]
     },
     "metadata": {},
     "output_type": "display_data"
    }
   ],
   "source": [
    "plt.figure(figsize=(14, 8))\n",
    "sns.set_style(\"whitegrid\")\n",
    "g = sns.barplot(data=top_20_skills, x='count', y='skill_name', palette='Spectral')\n",
    "g.set_title('Топ-20 навыков для начинающего QA-тестировщика', fontweight=\"bold\")\n",
    "g.set_xlabel('Кол-во повторений в вакансиях')\n",
    "g.set_ylabel('Навыки');"
   ]
  },
  {
   "cell_type": "markdown",
   "metadata": {},
   "source": [
    "#### Вывод:\n",
    "Самое частое требование от тестировщика - функциональное тестирование, процесс основанный на заранее известном (в некоторых случая предполагаемом) поведении пользователя. Также важно знать и уметь работать с СУБД, в первую очередь с SQL. Очень часто в описании вакансий есть упоминания про этот навык, который звучит как «Знание SQL на уровне простых запросов». Тестирование GUI также встречается довольно часто, пользовательский интерфейс – это «лицо» системы, и эффективность работы пользователя зависит от его релевантности. "
   ]
  },
  {
   "cell_type": "markdown",
   "metadata": {},
   "source": [
    "### Анализ креативности вакансий:"
   ]
  },
  {
   "cell_type": "markdown",
   "metadata": {},
   "source": [
    "Для определения креативности вакансии, выбран метод отбора неформальных слов входящих в описание вакансии и их подсчета."
   ]
  },
  {
   "cell_type": "code",
   "execution_count": 19,
   "metadata": {},
   "outputs": [],
   "source": [
    "vacancy_creativity = hh_qa.query('vacancy_description.str.contains(\"плюш|крут|лофт|вкусн|релакс|весел\")', engine='python').reset_index(drop=True)"
   ]
  },
  {
   "cell_type": "markdown",
   "metadata": {},
   "source": [
    "Просмотрев описание вакансий, были выбранны корни от слов: \"плюшки\", \"крутой\", \"лофт\", \"вкусный\", \"релакс\", \"веселый\" (возможно дополнение этого списка)."
   ]
  },
  {
   "cell_type": "code",
   "execution_count": 20,
   "metadata": {},
   "outputs": [],
   "source": [
    "def regex_creativ(text):\n",
    "    text = re.findall(r\"\\b\\w*(плюш|крут|лофт|вкусн|релакс|весел)\\w*\\b\", text)\n",
    "    return text"
   ]
  },
  {
   "cell_type": "code",
   "execution_count": 21,
   "metadata": {},
   "outputs": [],
   "source": [
    "vacancy_creativity['words'] = vacancy_creativity['vacancy_description'].apply(regex_creativ)\n",
    "vacancy_creativity['words'] = vacancy_creativity['words'].str.join(', ')"
   ]
  },
  {
   "cell_type": "code",
   "execution_count": 22,
   "metadata": {},
   "outputs": [],
   "source": [
    "lst = ['плюш', 'крут', 'лофт', 'вкусн', 'релакс', 'весел']\n",
    "ndf = vacancy_creativity['words'].apply(nltk.word_tokenize).apply(nltk.FreqDist).apply(pd.Series)[lst].fillna(0)\n",
    "\n",
    "vacancy_creativity = vacancy_creativity.join(ndf, how='left')"
   ]
  },
  {
   "cell_type": "code",
   "execution_count": 23,
   "metadata": {},
   "outputs": [
    {
     "name": "stderr",
     "output_type": "stream",
     "text": [
      "C:\\Users\\nikit\\anaconda3\\lib\\site-packages\\ipykernel_launcher.py:1: FutureWarning: Indexing with multiple keys (implicitly converted to a tuple of keys) will be deprecated, use a list instead.\n",
      "  \"\"\"Entry point for launching an IPython kernel.\n"
     ]
    }
   ],
   "source": [
    "dynamic_creativity = vacancy_creativity.groupby('publication_year')['крут', 'вкусн', 'плюш', 'весел', 'лофт', 'релакс'].sum().reset_index()"
   ]
  },
  {
   "cell_type": "code",
   "execution_count": 24,
   "metadata": {
    "scrolled": false
   },
   "outputs": [
    {
     "data": {
      "image/png": "[encoded data removed]",
      "text/plain": [
       "<Figure size 1080x720 with 1 Axes>"
      ]
     },
     "metadata": {},
     "output_type": "display_data"
    }
   ],
   "source": [
    "creativity_bar = dynamic_creativity.plot(x='publication_year', kind='bar', stacked=False, figsize=(15,10));\n",
    "creativity_bar.set_xlabel('Год публикации вакансии')\n",
    "creativity_bar.set_ylabel('Кол-во слов, входящих в опиисание вакансии')\n",
    "creativity_bar.set_title('Неформальные слова в описании вакансии')\n",
    "creativity_bar.tick_params(labelrotation=0);"
   ]
  },
  {
   "cell_type": "markdown",
   "metadata": {},
   "source": [
    "#### Вывод:\n",
    "В 2019 году, относительно предыдущих лет, кол-во вакансий, в которых использовались неформальные слова увеличилось. Это выделяет вакансию среди других и дает ощущение открытости и дружелюбности компании к потенциальному кандидату. В 2017 году, слова с корнем \"вкусн\" (вкусняшки, вкусности, вкусные обеды) превалировали над остальными, но уже в 2019 году слов с корнем \"крут\" стало в 2 раза больше. Чаще всего слова с корнем \"крут\" упоминаются в отношении к команде и офису.  "
   ]
  },
  {
   "cell_type": "markdown",
   "metadata": {},
   "source": [
    "___"
   ]
  },
  {
   "cell_type": "markdown",
   "metadata": {},
   "source": [
    "## Вопросы от заказчика<a id=\"questions\"></a>"
   ]
  },
  {
   "cell_type": "markdown",
   "metadata": {},
   "source": [
    "### Емкость рынка по годам."
   ]
  },
  {
   "cell_type": "code",
   "execution_count": 25,
   "metadata": {},
   "outputs": [],
   "source": [
    "year_capacity = hh_qa.groupby('publication_year')['vacancy_name'].count().reset_index()\n",
    "year_capacity.columns = ['publication_year', 'vacancy_count']"
   ]
  },
  {
   "cell_type": "code",
   "execution_count": 26,
   "metadata": {
    "scrolled": false
   },
   "outputs": [
    {
     "data": {
      "text/html": [
       "<div>\n",
       "<style scoped>\n",
       "    .dataframe tbody tr th:only-of-type {\n",
       "        vertical-align: middle;\n",
       "    }\n",
       "\n",
       "    .dataframe tbody tr th {\n",
       "        vertical-align: top;\n",
       "    }\n",
       "\n",
       "    .dataframe thead th {\n",
       "        text-align: right;\n",
       "    }\n",
       "</style>\n",
       "<table border=\"1\" class=\"dataframe\">\n",
       "  <thead>\n",
       "    <tr style=\"text-align: right;\">\n",
       "      <th></th>\n",
       "      <th>publication_year</th>\n",
       "      <th>vacancy_count</th>\n",
       "    </tr>\n",
       "  </thead>\n",
       "  <tbody>\n",
       "    <tr>\n",
       "      <th>0</th>\n",
       "      <td>2017</td>\n",
       "      <td>8066</td>\n",
       "    </tr>\n",
       "    <tr>\n",
       "      <th>1</th>\n",
       "      <td>2018</td>\n",
       "      <td>7420</td>\n",
       "    </tr>\n",
       "    <tr>\n",
       "      <th>2</th>\n",
       "      <td>2019</td>\n",
       "      <td>6904</td>\n",
       "    </tr>\n",
       "  </tbody>\n",
       "</table>\n",
       "</div>"
      ],
      "text/plain": [
       "   publication_year  vacancy_count\n",
       "0              2017           8066\n",
       "1              2018           7420\n",
       "2              2019           6904"
      ]
     },
     "metadata": {},
     "output_type": "display_data"
    },
    {
     "data": {
      "image/png": "[encoded data removed]",
      "text/plain": [
       "<Figure size 504x504 with 1 Axes>"
      ]
     },
     "metadata": {},
     "output_type": "display_data"
    }
   ],
   "source": [
    "display(year_capacity)\n",
    "\n",
    "plt.figure(figsize=(7, 7))\n",
    "sns.set_style(\"whitegrid\")\n",
    "g = sns.barplot(data = year_capacity, x='publication_year', y='vacancy_count', palette='Set1')\n",
    "g.set_title('Емкость рынка по годам', fontweight=\"bold\")\n",
    "g.set_xlabel('Год публикации')\n",
    "g.set_ylabel('Кол-во вакансий');"
   ]
  },
  {
   "cell_type": "markdown",
   "metadata": {},
   "source": [
    "#### Вывод:\n",
    "Более 8т. вакансий тестировщиков в 2017 г. и далее наблюдается тенденция на спад, где ежегодно кол-во вакансий снижается, в среднем, на 500."
   ]
  },
  {
   "cell_type": "markdown",
   "metadata": {},
   "source": [
    "### Емкость рынка по регионам и по годам."
   ]
  },
  {
   "cell_type": "code",
   "execution_count": 27,
   "metadata": {
    "scrolled": false
   },
   "outputs": [
    {
     "data": {
      "text/html": [
       "<div>\n",
       "<style scoped>\n",
       "    .dataframe tbody tr th:only-of-type {\n",
       "        vertical-align: middle;\n",
       "    }\n",
       "\n",
       "    .dataframe tbody tr th {\n",
       "        vertical-align: top;\n",
       "    }\n",
       "\n",
       "    .dataframe thead th {\n",
       "        text-align: right;\n",
       "    }\n",
       "</style>\n",
       "<table border=\"1\" class=\"dataframe\">\n",
       "  <thead>\n",
       "    <tr style=\"text-align: right;\">\n",
       "      <th></th>\n",
       "      <th></th>\n",
       "      <th>vacancy_name</th>\n",
       "    </tr>\n",
       "    <tr>\n",
       "      <th>region_name</th>\n",
       "      <th>publication_year</th>\n",
       "      <th></th>\n",
       "    </tr>\n",
       "  </thead>\n",
       "  <tbody>\n",
       "    <tr>\n",
       "      <th rowspan=\"3\" valign=\"top\">Москва</th>\n",
       "      <th>2017</th>\n",
       "      <td>2489</td>\n",
       "    </tr>\n",
       "    <tr>\n",
       "      <th>2019</th>\n",
       "      <td>2402</td>\n",
       "    </tr>\n",
       "    <tr>\n",
       "      <th>2018</th>\n",
       "      <td>2317</td>\n",
       "    </tr>\n",
       "    <tr>\n",
       "      <th rowspan=\"3\" valign=\"top\">Санкт-Петербург</th>\n",
       "      <th>2017</th>\n",
       "      <td>1468</td>\n",
       "    </tr>\n",
       "    <tr>\n",
       "      <th>2018</th>\n",
       "      <td>1219</td>\n",
       "    </tr>\n",
       "    <tr>\n",
       "      <th>2019</th>\n",
       "      <td>1155</td>\n",
       "    </tr>\n",
       "    <tr>\n",
       "      <th rowspan=\"3\" valign=\"top\">Новосибирская область</th>\n",
       "      <th>2017</th>\n",
       "      <td>362</td>\n",
       "    </tr>\n",
       "    <tr>\n",
       "      <th>2018</th>\n",
       "      <td>317</td>\n",
       "    </tr>\n",
       "    <tr>\n",
       "      <th>2019</th>\n",
       "      <td>270</td>\n",
       "    </tr>\n",
       "    <tr>\n",
       "      <th rowspan=\"3\" valign=\"top\">Нижегородская область</th>\n",
       "      <th>2018</th>\n",
       "      <td>265</td>\n",
       "    </tr>\n",
       "    <tr>\n",
       "      <th>2017</th>\n",
       "      <td>241</td>\n",
       "    </tr>\n",
       "    <tr>\n",
       "      <th>2019</th>\n",
       "      <td>234</td>\n",
       "    </tr>\n",
       "    <tr>\n",
       "      <th rowspan=\"3\" valign=\"top\">Республика Татарстан</th>\n",
       "      <th>2017</th>\n",
       "      <td>210</td>\n",
       "    </tr>\n",
       "    <tr>\n",
       "      <th>2019</th>\n",
       "      <td>206</td>\n",
       "    </tr>\n",
       "    <tr>\n",
       "      <th>2018</th>\n",
       "      <td>189</td>\n",
       "    </tr>\n",
       "  </tbody>\n",
       "</table>\n",
       "</div>"
      ],
      "text/plain": [
       "                                        vacancy_name\n",
       "region_name           publication_year              \n",
       "Москва                2017                      2489\n",
       "                      2019                      2402\n",
       "                      2018                      2317\n",
       "Санкт-Петербург       2017                      1468\n",
       "                      2018                      1219\n",
       "                      2019                      1155\n",
       "Новосибирская область 2017                       362\n",
       "                      2018                       317\n",
       "                      2019                       270\n",
       "Нижегородская область 2018                       265\n",
       "                      2017                       241\n",
       "                      2019                       234\n",
       "Республика Татарстан  2017                       210\n",
       "                      2019                       206\n",
       "                      2018                       189"
      ]
     },
     "execution_count": 27,
     "metadata": {},
     "output_type": "execute_result"
    }
   ],
   "source": [
    "hh_qa.pivot_table(index=(['region_name', 'publication_year']), values='vacancy_name', aggfunc='count').sort_values(by='vacancy_name', ascending=False).head(15)"
   ]
  },
  {
   "cell_type": "markdown",
   "metadata": {},
   "source": [
    "#### Вывод:\n",
    "Лидирующие позиции занимают Москва и Санкт-Петербург, где емкость рынка ежегодно составляет, с среднем,  2400 вакансий и 1250 соответсвенно. Что неудивительно, ведь в этих города сосредоточено развитие IT инфраструктуры. Уже в Новосибирской области, который по емкости рынка уступает Санкт-Петербургу, видно резкое снижение кол-ва вакансий в 4 раза."
   ]
  },
  {
   "cell_type": "markdown",
   "metadata": {},
   "source": [
    "### Доля вакансий, в которой упоминается «исследовательское тестирование»"
   ]
  },
  {
   "cell_type": "code",
   "execution_count": 28,
   "metadata": {},
   "outputs": [],
   "source": [
    "research_qa = hh_qa.query('vacancy_description.str.contains(\"исследовательское тестирование\")', engine='python')"
   ]
  },
  {
   "cell_type": "code",
   "execution_count": 29,
   "metadata": {},
   "outputs": [
    {
     "name": "stdout",
     "output_type": "stream",
     "text": [
      "Доля вакансий, в которой упоминается «исследовательское тестирование»: 2.3%\n"
     ]
    }
   ],
   "source": [
    "print('Доля вакансий, в которой упоминается «исследовательское тестирование»: {:.1%}'.format(len(research_qa) / len(hh_qa)))"
   ]
  },
  {
   "cell_type": "markdown",
   "metadata": {},
   "source": [
    "#### Вывод:\n",
    "Всего в 2.3% процентах вакансий упоминается исследовательское тестирование. Многие скептически относятся к исследовательскому тестированию, так как считают, что это пустая трата времени и ресурсов."
   ]
  },
  {
   "cell_type": "markdown",
   "metadata": {},
   "source": [
    "### Распределение по регионам и количество вакансий с удаленной работой."
   ]
  },
  {
   "cell_type": "code",
   "execution_count": 30,
   "metadata": {},
   "outputs": [],
   "source": [
    "hh_qa_remote = hh_qa.query('work_schedule == \"remote\"')"
   ]
  },
  {
   "cell_type": "code",
   "execution_count": 31,
   "metadata": {
    "scrolled": true
   },
   "outputs": [
    {
     "data": {
      "text/html": [
       "<div>\n",
       "<style scoped>\n",
       "    .dataframe tbody tr th:only-of-type {\n",
       "        vertical-align: middle;\n",
       "    }\n",
       "\n",
       "    .dataframe tbody tr th {\n",
       "        vertical-align: top;\n",
       "    }\n",
       "\n",
       "    .dataframe thead th {\n",
       "        text-align: right;\n",
       "    }\n",
       "</style>\n",
       "<table border=\"1\" class=\"dataframe\">\n",
       "  <thead>\n",
       "    <tr style=\"text-align: right;\">\n",
       "      <th></th>\n",
       "      <th>vacancy_name</th>\n",
       "    </tr>\n",
       "    <tr>\n",
       "      <th>region_name</th>\n",
       "      <th></th>\n",
       "    </tr>\n",
       "  </thead>\n",
       "  <tbody>\n",
       "    <tr>\n",
       "      <th>Москва</th>\n",
       "      <td>350</td>\n",
       "    </tr>\n",
       "    <tr>\n",
       "      <th>Санкт-Петербург</th>\n",
       "      <td>159</td>\n",
       "    </tr>\n",
       "    <tr>\n",
       "      <th>Республика Татарстан</th>\n",
       "      <td>62</td>\n",
       "    </tr>\n",
       "    <tr>\n",
       "      <th>Нижегородская область</th>\n",
       "      <td>59</td>\n",
       "    </tr>\n",
       "    <tr>\n",
       "      <th>Новосибирская область</th>\n",
       "      <td>55</td>\n",
       "    </tr>\n",
       "    <tr>\n",
       "      <th>Самарская область</th>\n",
       "      <td>50</td>\n",
       "    </tr>\n",
       "    <tr>\n",
       "      <th>Ростовская область</th>\n",
       "      <td>46</td>\n",
       "    </tr>\n",
       "    <tr>\n",
       "      <th>Саратовская область</th>\n",
       "      <td>46</td>\n",
       "    </tr>\n",
       "    <tr>\n",
       "      <th>Свердловская область</th>\n",
       "      <td>44</td>\n",
       "    </tr>\n",
       "    <tr>\n",
       "      <th>Краснодарский край</th>\n",
       "      <td>42</td>\n",
       "    </tr>\n",
       "  </tbody>\n",
       "</table>\n",
       "</div>"
      ],
      "text/plain": [
       "                       vacancy_name\n",
       "region_name                        \n",
       "Москва                          350\n",
       "Санкт-Петербург                 159\n",
       "Республика Татарстан             62\n",
       "Нижегородская область            59\n",
       "Новосибирская область            55\n",
       "Самарская область                50\n",
       "Ростовская область               46\n",
       "Саратовская область              46\n",
       "Свердловская область             44\n",
       "Краснодарский край               42"
      ]
     },
     "execution_count": 31,
     "metadata": {},
     "output_type": "execute_result"
    }
   ],
   "source": [
    "hh_qa_remote.pivot_table(index='region_name', values='vacancy_name', aggfunc='count').sort_values(by='vacancy_name', ascending=False).head(10)"
   ]
  },
  {
   "cell_type": "markdown",
   "metadata": {},
   "source": [
    "#### Вывод:\n",
    "Всего, на период с начала 2017г. по конец 2019г. на рынке были представлены 350 вакансий с удаленной работой для Москвы, 159 для Санкт-Петербурга и, в среднем, около 50 для других областей."
   ]
  },
  {
   "cell_type": "markdown",
   "metadata": {},
   "source": [
    "### Существуют ли сезонные пики и спады в распределении числа активных вакансий в течение года и если да — существуют везде или, например, в Москве спадов нет?"
   ]
  },
  {
   "cell_type": "code",
   "execution_count": 32,
   "metadata": {},
   "outputs": [],
   "source": [
    "season = hh_qa.groupby(['publication_year', 'publication_month', 'publication_month_name'])['vacancy_name'].count().reset_index().sort_values(by='publication_month')"
   ]
  },
  {
   "cell_type": "code",
   "execution_count": 33,
   "metadata": {
    "scrolled": false
   },
   "outputs": [
    {
     "data": {
      "image/png": "[encoded data removed]",
      "text/plain": [
       "<Figure size 1009.25x360 with 1 Axes>"
      ]
     },
     "metadata": {},
     "output_type": "display_data"
    }
   ],
   "source": [
    "sns.set_style(\"whitegrid\")\n",
    "g = sns.relplot(data=season, x='publication_month_name', y='vacancy_name', hue='publication_year', kind='line', aspect=15/6, sort=False, palette='Set1')\n",
    "g.set_axis_labels(\"Месяца\", \"Кол-во вакансий\");"
   ]
  },
  {
   "cell_type": "markdown",
   "metadata": {},
   "source": [
    "___\n",
    "Для Москвы: "
   ]
  },
  {
   "cell_type": "code",
   "execution_count": 34,
   "metadata": {},
   "outputs": [],
   "source": [
    "season_moscow = hh_qa.query('city_name == \"Москва\"').groupby(['publication_year', 'publication_month', 'publication_month_name'])['vacancy_name'].count().reset_index().sort_values(by='publication_month')"
   ]
  },
  {
   "cell_type": "code",
   "execution_count": 35,
   "metadata": {
    "scrolled": false
   },
   "outputs": [
    {
     "data": {
      "image/png": "[encoded data removed]",
      "text/plain": [
       "<Figure size 1009.25x360 with 1 Axes>"
      ]
     },
     "metadata": {},
     "output_type": "display_data"
    }
   ],
   "source": [
    "sns.set_style(\"whitegrid\")\n",
    "g = sns.relplot(data=season_moscow, x='publication_month_name', y='vacancy_name', hue='publication_year', kind='line', aspect=15/6, sort=False, palette='Set1')\n",
    "g.set_axis_labels(\"Месяца\", \"Кол-во вакансий\");"
   ]
  },
  {
   "cell_type": "markdown",
   "metadata": {},
   "source": [
    "#### Вывод:\n",
    "На рынке труда есть сезонные закономерности. В марте-апреле предложений больше, это «высокий сезон». Следующий высокий сезон будет осенью.  В мае активность работодателей в поиске снижается из-за праздников, летом — из-за отпусков. Зимой активность на кадровом рынке также значительно снижается — в конце года работодателям не до пополнения штата, все заняты подведением итогов, отчетами, дотягиванием до годовых KPI. То же характерно и для Москвы."
   ]
  },
  {
   "cell_type": "markdown",
   "metadata": {},
   "source": [
    "### Сколько вакансий-стажировок (с дополнительным к основной выборке словом «стажер»/«стажёр»/«стажировка» в названии) и их распределение по регионам"
   ]
  },
  {
   "cell_type": "code",
   "execution_count": 36,
   "metadata": {},
   "outputs": [],
   "source": [
    "intern_qa = hh_qa.query('experience_required == \"no_experience\" and vacancy_name.str.contains(\"стажер|стажёр|стажировка\")', engine='python')"
   ]
  },
  {
   "cell_type": "code",
   "execution_count": 37,
   "metadata": {
    "scrolled": true
   },
   "outputs": [
    {
     "data": {
      "text/html": [
       "<div>\n",
       "<style scoped>\n",
       "    .dataframe tbody tr th:only-of-type {\n",
       "        vertical-align: middle;\n",
       "    }\n",
       "\n",
       "    .dataframe tbody tr th {\n",
       "        vertical-align: top;\n",
       "    }\n",
       "\n",
       "    .dataframe thead th {\n",
       "        text-align: right;\n",
       "    }\n",
       "</style>\n",
       "<table border=\"1\" class=\"dataframe\">\n",
       "  <thead>\n",
       "    <tr style=\"text-align: right;\">\n",
       "      <th></th>\n",
       "      <th>vacancy_name</th>\n",
       "    </tr>\n",
       "    <tr>\n",
       "      <th>region_name</th>\n",
       "      <th></th>\n",
       "    </tr>\n",
       "  </thead>\n",
       "  <tbody>\n",
       "    <tr>\n",
       "      <th>Москва</th>\n",
       "      <td>110</td>\n",
       "    </tr>\n",
       "    <tr>\n",
       "      <th>Санкт-Петербург</th>\n",
       "      <td>45</td>\n",
       "    </tr>\n",
       "    <tr>\n",
       "      <th>Нижегородская область</th>\n",
       "      <td>17</td>\n",
       "    </tr>\n",
       "    <tr>\n",
       "      <th>Воронежская область</th>\n",
       "      <td>15</td>\n",
       "    </tr>\n",
       "    <tr>\n",
       "      <th>Республика Татарстан</th>\n",
       "      <td>14</td>\n",
       "    </tr>\n",
       "    <tr>\n",
       "      <th>Рязанская область</th>\n",
       "      <td>10</td>\n",
       "    </tr>\n",
       "    <tr>\n",
       "      <th>Удмуртская Республика</th>\n",
       "      <td>10</td>\n",
       "    </tr>\n",
       "    <tr>\n",
       "      <th>Новосибирская область</th>\n",
       "      <td>10</td>\n",
       "    </tr>\n",
       "    <tr>\n",
       "      <th>Самарская область</th>\n",
       "      <td>5</td>\n",
       "    </tr>\n",
       "    <tr>\n",
       "      <th>Саратовская область</th>\n",
       "      <td>4</td>\n",
       "    </tr>\n",
       "  </tbody>\n",
       "</table>\n",
       "</div>"
      ],
      "text/plain": [
       "                       vacancy_name\n",
       "region_name                        \n",
       "Москва                          110\n",
       "Санкт-Петербург                  45\n",
       "Нижегородская область            17\n",
       "Воронежская область              15\n",
       "Республика Татарстан             14\n",
       "Рязанская область                10\n",
       "Удмуртская Республика            10\n",
       "Новосибирская область            10\n",
       "Самарская область                 5\n",
       "Саратовская область               4"
      ]
     },
     "execution_count": 37,
     "metadata": {},
     "output_type": "execute_result"
    }
   ],
   "source": [
    "intern_qa.pivot_table(index='region_name', values='vacancy_name', aggfunc='count').sort_values(by='vacancy_name', ascending=False).head(10)"
   ]
  },
  {
   "cell_type": "markdown",
   "metadata": {},
   "source": [
    "#### Вывод:\n",
    "Вакансий-стажировок среди тестировщиков довольно мало. В России бизнес все еще относится к этому явлению с опаской — студентов не берут совсем или доверяют им только \"перекладывать бумажки\". Неопытный сотрудник может обходится команде даже дороже senior-специалиста."
   ]
  },
  {
   "cell_type": "markdown",
   "metadata": {},
   "source": [
    "### Сколько вакансий джунов называются «тестировщик», «QA» или «QC»?"
   ]
  },
  {
   "cell_type": "code",
   "execution_count": 38,
   "metadata": {},
   "outputs": [],
   "source": [
    "jun_len = len(hh_qa.query('experience_required == \"no_experience\" and vacancy_name.str.contains(\"тестировщик|qa|qc\")', engine='python'))"
   ]
  },
  {
   "cell_type": "code",
   "execution_count": 39,
   "metadata": {},
   "outputs": [
    {
     "name": "stdout",
     "output_type": "stream",
     "text": [
      "Кол-во вакансий джунов с «тестировщик», «QA» или «QC» в названии: 2088\n"
     ]
    }
   ],
   "source": [
    "print('Кол-во вакансий джунов с «тестировщик», «QA» или «QC» в названии:', jun_len)"
   ]
  },
  {
   "cell_type": "markdown",
   "metadata": {},
   "source": [
    "#### Не случился ли перекос в сторону наименования QA?"
   ]
  },
  {
   "cell_type": "code",
   "execution_count": 40,
   "metadata": {},
   "outputs": [],
   "source": [
    "jun_qa = len(hh_qa.query('experience_required == \"no_experience\" and vacancy_name.str.contains(\"qa\")', engine='python'))"
   ]
  },
  {
   "cell_type": "code",
   "execution_count": 41,
   "metadata": {},
   "outputs": [],
   "source": [
    "jun_test = len(hh_qa.query('experience_required == \"no_experience\" and vacancy_name.str.contains(\"тестировщик\")', engine='python'))"
   ]
  },
  {
   "cell_type": "code",
   "execution_count": 42,
   "metadata": {},
   "outputs": [
    {
     "name": "stdout",
     "output_type": "stream",
     "text": [
      "Кол-во вакансий джунов с \"QA\" в названии: 876\n",
      "Кол-во остальных вакансий джунов: 1512\n",
      "Доля вакансий джунов с \"QA\" в названии: 42.0%\n"
     ]
    }
   ],
   "source": [
    "print('Кол-во вакансий джунов с \"QA\" в названии:', jun_qa)\n",
    "print('Кол-во остальных вакансий джунов:', jun_test)\n",
    "print('Доля вакансий джунов с \"QA\" в названии: {:.1%}'.format(jun_qa / jun_len))"
   ]
  },
  {
   "cell_type": "markdown",
   "metadata": {},
   "source": [
    "#### Вывод:\n",
    "Вакансий джунов с \"QA\" в названии все еще меньше."
   ]
  },
  {
   "cell_type": "markdown",
   "metadata": {},
   "source": [
    "## Выводы:<a id=\"summary\"></a>\n",
    "### Исследовательский анализ:\n",
    "- **Период данных:** с 2017-01-01 по 2019-12-31\n",
    "- **Распределение вакансий по странам:** Основной массив данных приходится на Россию, есть также вакансии из Беларуси и Казахстана\n",
    "- **Распределение вакансий по опыту:** Большинство вакансий предполагают опыт кандидата до 3х лет.\n",
    "- **Распределение вакансий по типу занятости:** Большинство вакансий предполагают полный рабочий день.\n",
    "\n",
    "\n",
    "- **3 самых часто упоменаемых навыка для тестировщика без опыта:**\n",
    "    - Функциональное тестирование\n",
    "    - SQL\n",
    "    - Тестирование пользовательского интерфейса\n",
    "    \n",
    "    \n",
    "- **Креативность вакансий:** В целом, неформальных слов в описании вакансий стало больше\n",
    "\n",
    "### Вопросы от заказчика:\n",
    "- **Емкость рынка по годам:** 8т. вакансий в 2017 г. и 7т. в 2019 г., наблюдается тенденция на спад\n",
    "- **Емкость рынка по регионам и годам:** Лидируют Москва и Санкт-Петербург, в других регионах вакансий представленно в 4-5 раз меньше.\n",
    "- **Доля вакансий, в которой упоминается «исследовательское тестирование»:** 2.3%\n",
    "- **Распределение по регионам и количество вакансий с удаленной работой:** Больше всего таких вакансий в Москве, почти в 2 раза - меньше в Санкт-Петербурге и в 3 раза меньше в других регионах.\n",
    "- **Сезонные пики:** Много вакансий весной и осенью. Предположительно, летом мало вакансий из-за отпусков, зимой - из-за загруженности.\n",
    "- **Сколько вакансий-стажировок:** Из 7т. вакансий для Москвы, только 110 были стажировками. Для остальных регионов - таких вакансий практически нет.\n",
    "- **Сколько вакансий джунов называются «тестировщик»:** «QA» или «QC»: 2088 вакансий\n",
    "- **Не случился ли перекос в сторону наименования QA?:** Вакансий с QA в названии 42%"
   ]
  },
  {
   "cell_type": "markdown",
   "metadata": {},
   "source": [
    "## Рекомендации:\n",
    "Студенты QA факультета могут откликнуться на вакансии младшего QA тестировщика, вакансии без опыта либо на вакансии-стажировки.\n",
    "Ниже представлена таблица подобных вакансий:"
   ]
  },
  {
   "cell_type": "code",
   "execution_count": 43,
   "metadata": {
    "scrolled": true
   },
   "outputs": [
    {
     "data": {
      "text/html": [
       "<div>\n",
       "<style scoped>\n",
       "    .dataframe tbody tr th:only-of-type {\n",
       "        vertical-align: middle;\n",
       "    }\n",
       "\n",
       "    .dataframe tbody tr th {\n",
       "        vertical-align: top;\n",
       "    }\n",
       "\n",
       "    .dataframe thead th {\n",
       "        text-align: right;\n",
       "    }\n",
       "</style>\n",
       "<table border=\"1\" class=\"dataframe\">\n",
       "  <thead>\n",
       "    <tr style=\"text-align: right;\">\n",
       "      <th></th>\n",
       "      <th>vacancy_id</th>\n",
       "      <th>vacancy_name</th>\n",
       "      <th>vacancy_description</th>\n",
       "      <th>experience_required</th>\n",
       "      <th>type_of_employment</th>\n",
       "      <th>work_schedule</th>\n",
       "      <th>publication_day</th>\n",
       "      <th>city_name</th>\n",
       "      <th>region_name</th>\n",
       "      <th>country_name</th>\n",
       "      <th>list_of_profarea_ids</th>\n",
       "      <th>list_of_skill_names</th>\n",
       "      <th>publication_year</th>\n",
       "      <th>publication_month</th>\n",
       "      <th>publication_month_name</th>\n",
       "    </tr>\n",
       "  </thead>\n",
       "  <tbody>\n",
       "    <tr>\n",
       "      <th>0</th>\n",
       "      <td>23920048</td>\n",
       "      <td>тестировщик по</td>\n",
       "      <td>обязанности: - тестирование web-сайтов - тести...</td>\n",
       "      <td>no_experience</td>\n",
       "      <td>full</td>\n",
       "      <td>full_day</td>\n",
       "      <td>2017-12-25</td>\n",
       "      <td>Москва</td>\n",
       "      <td>Москва</td>\n",
       "      <td>Россия</td>\n",
       "      <td>1</td>\n",
       "      <td>[None]</td>\n",
       "      <td>2017</td>\n",
       "      <td>12</td>\n",
       "      <td>Декабрь</td>\n",
       "    </tr>\n",
       "    <tr>\n",
       "      <th>1</th>\n",
       "      <td>22728748</td>\n",
       "      <td>тестировщик мморпг</td>\n",
       "      <td>friday’s games – студия-разработчик мобильных ...</td>\n",
       "      <td>no_experience</td>\n",
       "      <td>full</td>\n",
       "      <td>full_day</td>\n",
       "      <td>2017-09-14</td>\n",
       "      <td>Новосибирск</td>\n",
       "      <td>Новосибирская область</td>\n",
       "      <td>Россия</td>\n",
       "      <td>1</td>\n",
       "      <td>[None]</td>\n",
       "      <td>2017</td>\n",
       "      <td>9</td>\n",
       "      <td>Сентябрь</td>\n",
       "    </tr>\n",
       "    <tr>\n",
       "      <th>2</th>\n",
       "      <td>20288758</td>\n",
       "      <td>qa specialist (автоматизированное тестирование)</td>\n",
       "      <td>если ты хочешь развиваться в автоматизированно...</td>\n",
       "      <td>no_experience</td>\n",
       "      <td>full</td>\n",
       "      <td>full_day</td>\n",
       "      <td>2017-04-18</td>\n",
       "      <td>Москва</td>\n",
       "      <td>Москва</td>\n",
       "      <td>Россия</td>\n",
       "      <td>1</td>\n",
       "      <td>[None]</td>\n",
       "      <td>2017</td>\n",
       "      <td>4</td>\n",
       "      <td>Апрель</td>\n",
       "    </tr>\n",
       "    <tr>\n",
       "      <th>3</th>\n",
       "      <td>22900564</td>\n",
       "      <td>младший qa инженер</td>\n",
       "      <td>команда разработки hearst shkulev digital в по...</td>\n",
       "      <td>up_to_3_years</td>\n",
       "      <td>full</td>\n",
       "      <td>full_day</td>\n",
       "      <td>2017-11-13</td>\n",
       "      <td>Новосибирск</td>\n",
       "      <td>Новосибирская область</td>\n",
       "      <td>Россия</td>\n",
       "      <td>1</td>\n",
       "      <td>['Тестирование', 'Linux', 'QA', 'SQL']</td>\n",
       "      <td>2017</td>\n",
       "      <td>11</td>\n",
       "      <td>Ноябрь</td>\n",
       "    </tr>\n",
       "    <tr>\n",
       "      <th>4</th>\n",
       "      <td>19734864</td>\n",
       "      <td>тестировщик по</td>\n",
       "      <td>обязанности:  проведение функционального, инте...</td>\n",
       "      <td>no_experience</td>\n",
       "      <td>full</td>\n",
       "      <td>full_day</td>\n",
       "      <td>2017-03-30</td>\n",
       "      <td>Москва</td>\n",
       "      <td>Москва</td>\n",
       "      <td>Россия</td>\n",
       "      <td>1</td>\n",
       "      <td>[None]</td>\n",
       "      <td>2017</td>\n",
       "      <td>3</td>\n",
       "      <td>Март</td>\n",
       "    </tr>\n",
       "  </tbody>\n",
       "</table>\n",
       "</div>"
      ],
      "text/plain": [
       "   vacancy_id                                     vacancy_name  \\\n",
       "0    23920048                                   тестировщик по   \n",
       "1    22728748                               тестировщик мморпг   \n",
       "2    20288758  qa specialist (автоматизированное тестирование)   \n",
       "3    22900564                               младший qa инженер   \n",
       "4    19734864                                   тестировщик по   \n",
       "\n",
       "                                 vacancy_description experience_required  \\\n",
       "0  обязанности: - тестирование web-сайтов - тести...       no_experience   \n",
       "1  friday’s games – студия-разработчик мобильных ...       no_experience   \n",
       "2  если ты хочешь развиваться в автоматизированно...       no_experience   \n",
       "3  команда разработки hearst shkulev digital в по...       up_to_3_years   \n",
       "4  обязанности:  проведение функционального, инте...       no_experience   \n",
       "\n",
       "  type_of_employment work_schedule publication_day    city_name  \\\n",
       "0               full      full_day      2017-12-25       Москва   \n",
       "1               full      full_day      2017-09-14  Новосибирск   \n",
       "2               full      full_day      2017-04-18       Москва   \n",
       "3               full      full_day      2017-11-13  Новосибирск   \n",
       "4               full      full_day      2017-03-30       Москва   \n",
       "\n",
       "             region_name country_name list_of_profarea_ids  \\\n",
       "0                 Москва       Россия                    1   \n",
       "1  Новосибирская область       Россия                    1   \n",
       "2                 Москва       Россия                    1   \n",
       "3  Новосибирская область       Россия                    1   \n",
       "4                 Москва       Россия                    1   \n",
       "\n",
       "                      list_of_skill_names  publication_year  \\\n",
       "0                                  [None]              2017   \n",
       "1                                  [None]              2017   \n",
       "2                                  [None]              2017   \n",
       "3  ['Тестирование', 'Linux', 'QA', 'SQL']              2017   \n",
       "4                                  [None]              2017   \n",
       "\n",
       "   publication_month publication_month_name  \n",
       "0                 12                Декабрь  \n",
       "1                  9               Сентябрь  \n",
       "2                  4                 Апрель  \n",
       "3                 11                 Ноябрь  \n",
       "4                  3                   Март  "
      ]
     },
     "execution_count": 43,
     "metadata": {},
     "output_type": "execute_result"
    }
   ],
   "source": [
    "vacancies_for_juniors = hh_qa.query('vacancy_name.str.contains(\"junior|младший\") or experience_required == \"no_experience\"', engine='python').reset_index(drop=True)\n",
    "vacancies_for_juniors.head()"
   ]
  },
  {
   "cell_type": "markdown",
   "metadata": {},
   "source": [
    "Большинство вакансий, на которые может откликнуться начинающий QA тестировщик представлены в России. В Беларуси тоже можно наткнуться на подобную вакансию. Совсем уж мало в Казахстане. Но в целом, кол-во подобных вакансий с годами растет."
   ]
  },
  {
   "cell_type": "code",
   "execution_count": 44,
   "metadata": {},
   "outputs": [
    {
     "data": {
      "text/html": [
       "<div>\n",
       "<style scoped>\n",
       "    .dataframe tbody tr th:only-of-type {\n",
       "        vertical-align: middle;\n",
       "    }\n",
       "\n",
       "    .dataframe tbody tr th {\n",
       "        vertical-align: top;\n",
       "    }\n",
       "\n",
       "    .dataframe thead th {\n",
       "        text-align: right;\n",
       "    }\n",
       "</style>\n",
       "<table border=\"1\" class=\"dataframe\">\n",
       "  <thead>\n",
       "    <tr style=\"text-align: right;\">\n",
       "      <th></th>\n",
       "      <th>publication_year</th>\n",
       "      <th>vacancy_id</th>\n",
       "    </tr>\n",
       "    <tr>\n",
       "      <th>country_name</th>\n",
       "      <th></th>\n",
       "      <th></th>\n",
       "    </tr>\n",
       "  </thead>\n",
       "  <tbody>\n",
       "    <tr>\n",
       "      <th>Россия</th>\n",
       "      <td>2019</td>\n",
       "      <td>1015</td>\n",
       "    </tr>\n",
       "    <tr>\n",
       "      <th>Россия</th>\n",
       "      <td>2018</td>\n",
       "      <td>910</td>\n",
       "    </tr>\n",
       "    <tr>\n",
       "      <th>Россия</th>\n",
       "      <td>2017</td>\n",
       "      <td>892</td>\n",
       "    </tr>\n",
       "    <tr>\n",
       "      <th>Казахстан</th>\n",
       "      <td>2019</td>\n",
       "      <td>16</td>\n",
       "    </tr>\n",
       "    <tr>\n",
       "      <th>Казахстан</th>\n",
       "      <td>2018</td>\n",
       "      <td>6</td>\n",
       "    </tr>\n",
       "    <tr>\n",
       "      <th>Казахстан</th>\n",
       "      <td>2017</td>\n",
       "      <td>23</td>\n",
       "    </tr>\n",
       "    <tr>\n",
       "      <th>Беларусь</th>\n",
       "      <td>2019</td>\n",
       "      <td>126</td>\n",
       "    </tr>\n",
       "    <tr>\n",
       "      <th>Беларусь</th>\n",
       "      <td>2018</td>\n",
       "      <td>110</td>\n",
       "    </tr>\n",
       "    <tr>\n",
       "      <th>Беларусь</th>\n",
       "      <td>2017</td>\n",
       "      <td>118</td>\n",
       "    </tr>\n",
       "  </tbody>\n",
       "</table>\n",
       "</div>"
      ],
      "text/plain": [
       "              publication_year  vacancy_id\n",
       "country_name                              \n",
       "Россия                    2019        1015\n",
       "Россия                    2018         910\n",
       "Россия                    2017         892\n",
       "Казахстан                 2019          16\n",
       "Казахстан                 2018           6\n",
       "Казахстан                 2017          23\n",
       "Беларусь                  2019         126\n",
       "Беларусь                  2018         110\n",
       "Беларусь                  2017         118"
      ]
     },
     "execution_count": 44,
     "metadata": {},
     "output_type": "execute_result"
    }
   ],
   "source": [
    "jun_capacity = vacancies_for_juniors.groupby(['country_name', 'publication_year'])['vacancy_id'].count().reset_index().sort_values(by=(['country_name', 'publication_year']),ascending=False).set_index('country_name')\n",
    "jun_capacity"
   ]
  }
 ],
 "metadata": {
  "kernelspec": {
   "display_name": "Python 3",
   "language": "python",
   "name": "python3"
  },
  "language_info": {
   "codemirror_mode": {
    "name": "ipython",
    "version": 3
   },
   "file_extension": ".py",
   "mimetype": "text/x-python",
   "name": "python",
   "nbconvert_exporter": "python",
   "pygments_lexer": "ipython3",
   "version": "3.7.6"
  }
 },
 "nbformat": 4,
 "nbformat_minor": 4
}
